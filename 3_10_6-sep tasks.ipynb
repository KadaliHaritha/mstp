{
 "cells": [
  {
   "cell_type": "code",
   "execution_count": 1,
   "metadata": {},
   "outputs": [],
   "source": [
    "fh1=open('book.txt','r')\n",
    "fh2=open('report.txt','w')\n",
    "count=0\n",
    "for line in fh1:\n",
    "    count+=1\n",
    "    if count==1:\n",
    "        fh2.write(line.strip()+'\\ttotal\\n')\n",
    "    else:\n",
    "        marks=line.strip().split()[2:]\n",
    "        newmarks=[]\n",
    "        for each in marks:\n",
    "            newmarks.append(int(each))\n",
    "        totalmarks=sum(newmarks)\n",
    "        fh2.write(line.strip()+'\\t'+str(totalmarks)+'\\n')\n",
    "fh1.close()\n",
    "fh2.close()\n",
    "                  \n",
    "            "
   ]
  },
  {
   "cell_type": "code",
   "execution_count": 33,
   "metadata": {},
   "outputs": [],
   "source": [
    "fh1=open('book.txt','r')\n",
    "fh2=open('highest.txt','w')\n",
    "c=0\n",
    "rows=[]\n",
    "\n",
    "for line in fh1:\n",
    "    c+=1\n",
    "    if c==1:\n",
    "        fh2.write(line.strip()+'\\ttotal\\n')\n",
    "    else:\n",
    "        marks=line.strip().split()[2:]\n",
    "        newmarks=[]\n",
    "        for each in marks:\n",
    "            newmarks.append(int(each))\n",
    "        totalmarks=sum(newmarks)\n",
    "        row=line.strip()+'\\t'+str(totalmarks)+'\\n'\n",
    "        rows.append([totalmarks,row])\n",
    "rows.sort(reverse=True)\n",
    "for row in rows:\n",
    "    fh2.write(row[1])\n",
    "        \n",
    "fh1.close()\n",
    "fh2.close()\n",
    "\n",
    "\n",
    "\n",
    "\n"
   ]
  },
  {
   "cell_type": "code",
   "execution_count": 34,
   "metadata": {},
   "outputs": [
    {
     "name": "stdout",
     "output_type": "stream",
     "text": [
      "[3, 6, 9, 12, 15, 18, 21, 24, 27, 30, 33, 36, 39, 42, 45, 48, 51, 54, 57, 60, 63, 66, 69, 72, 75, 78, 81, 84, 87, 90, 93, 96, 99]\n"
     ]
    }
   ],
   "source": [
    "numbers=[]\n",
    "for i in range(1,101):\n",
    "    if i%3==0:\n",
    "        numbers.append(i)\n",
    "print(numbers)\n",
    "            "
   ]
  },
  {
   "cell_type": "markdown",
   "metadata": {},
   "source": [
    "## create dictionary for squares of 1 to 10 numbers"
   ]
  },
  {
   "cell_type": "code",
   "execution_count": 35,
   "metadata": {},
   "outputs": [
    {
     "name": "stdout",
     "output_type": "stream",
     "text": [
      "{1: 1, 2: 4, 3: 9, 4: 16, 5: 25, 6: 36, 7: 49, 8: 64, 9: 81, 10: 100, 11: 121, 12: 144, 13: 169, 14: 196, 15: 225}\n"
     ]
    }
   ],
   "source": [
    "d={}\n",
    "for x in range(1,16):\n",
    "    d[x]=x**2\n",
    "print(d)  "
   ]
  },
  {
   "cell_type": "markdown",
   "metadata": {},
   "source": [
    "## sort the list basted on english marks\n",
    "### english[30,100,50]"
   ]
  },
  {
   "cell_type": "code",
   "execution_count": 83,
   "metadata": {},
   "outputs": [
    {
     "name": "stdout",
     "output_type": "stream",
     "text": [
      "[['sai', 30, 40], ['ram', 50, 60], ['lakshmi', 100, 30]]\n"
     ]
    }
   ],
   "source": [
    "students=[['sai',30,40],['lakshmi',100,30],['ram',50,60]]\n",
    "removeIndex=1\n",
    "for student in students:\n",
    "    #['sai',30,40]\n",
    "    student.insert(0,student.pop(removeIndex))\n",
    "    #[30,'sai',40]\n",
    "students.sort()\n",
    "for student in students:\n",
    "    student.insert(removeIndex,student.pop(0))\n",
    "    #['sai',30,40]\n",
    "print(students)    "
   ]
  },
  {
   "cell_type": "code",
   "execution_count": 88,
   "metadata": {},
   "outputs": [
    {
     "data": {
      "text/plain": [
       "[['ram', 50, 60], ['lakshmi', 100, 30], ['sai', 130, 40]]"
      ]
     },
     "execution_count": 88,
     "metadata": {},
     "output_type": "execute_result"
    }
   ],
   "source": [
    "students=[['sai',130,40],['lakshmi',100,30],['ram',50,60]]\n",
    "students.sort(key=lambda x:x[1]+x[2])\n",
    "students"
   ]
  },
  {
   "cell_type": "code",
   "execution_count": 114,
   "metadata": {},
   "outputs": [
    {
     "data": {
      "text/plain": [
       "[['sai', {'maths': 30, 'english': 50}],\n",
       " ['roja', {'maths': 50, 'english': 40}],\n",
       " ['ram', {'english': 100, 'maths': 100}]]"
      ]
     },
     "execution_count": 114,
     "metadata": {},
     "output_type": "execute_result"
    }
   ],
   "source": [
    "students=[\n",
    "         ['sai',{'maths':30,'english':50}],\n",
    "         ['ram',{'english':100,'maths':100}],\n",
    "         ['roja',{'maths':50,'english':40}]\n",
    "]\n",
    "students.sort(key=lambda x:x[1]['maths'])\n",
    "students    \n"
   ]
  },
  {
   "cell_type": "code",
   "execution_count": null,
   "metadata": {},
   "outputs": [],
   "source": []
  },
  {
   "cell_type": "code",
   "execution_count": null,
   "metadata": {},
   "outputs": [],
   "source": []
  }
 ],
 "metadata": {
  "kernelspec": {
   "display_name": "Python 3",
   "language": "python",
   "name": "python3"
  },
  "language_info": {
   "codemirror_mode": {
    "name": "ipython",
    "version": 3
   },
   "file_extension": ".py",
   "mimetype": "text/x-python",
   "name": "python",
   "nbconvert_exporter": "python",
   "pygments_lexer": "ipython3",
   "version": "3.7.3"
  }
 },
 "nbformat": 4,
 "nbformat_minor": 2
}
