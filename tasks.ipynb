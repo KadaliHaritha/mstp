{
 "cells": [
  {
   "cell_type": "code",
   "execution_count": null,
   "metadata": {},
   "outputs": [],
   "source": [
    "n=int(input(\"enter a num\"))\n",
    "fact=1\n",
    "for i in range(1,n+1):\n",
    "    fact=fact*i\n",
    "print(fact)\n",
    " "
   ]
  },
  {
   "cell_type": "markdown",
   "metadata": {},
   "source": [
    "## write a program to print fisrt prime numbers\n"
   ]
  },
  {
   "cell_type": "code",
   "execution_count": null,
   "metadata": {},
   "outputs": [],
   "source": [
    "\n",
    "n=int(input(\"enter a numbers u want\"))\n",
    "for i in range(1,n+1):\n",
    "    count=0\n",
    "    for j in range(1,i+1):\n",
    "        if(i%j==0):\n",
    "            count+=1\n",
    "    if(count==2):\n",
    "            print(i)\n",
    "        \n",
    "        \n",
    "\n",
    "    "
   ]
  },
  {
   "cell_type": "markdown",
   "metadata": {},
   "source": [
    "## 27-august-2019"
   ]
  },
  {
   "cell_type": "markdown",
   "metadata": {},
   "source": [
    "###  ipynp-interactive python notebook"
   ]
  },
  {
   "cell_type": "markdown",
   "metadata": {},
   "source": [
    "## caluclate the square root of given number"
   ]
  },
  {
   "cell_type": "code",
   "execution_count": null,
   "metadata": {},
   "outputs": [],
   "source": []
  },
  {
   "cell_type": "markdown",
   "metadata": {},
   "source": [
    "## print count of numbers and avg of that number taken by the user in a single line"
   ]
  },
  {
   "cell_type": "code",
   "execution_count": null,
   "metadata": {},
   "outputs": [],
   "source": [
    "s1=input()\n",
    "n=s1.split(\"#\")\n",
    "sum=0\n",
    "count=0\n",
    "for i in n:\n",
    "    sum=sum+int(i)\n",
    "    count+=1\n",
    "    avg=(sum//count)\n",
    "  \n",
    "print(avg)\n"
   ]
  },
  {
   "cell_type": "markdown",
   "metadata": {},
   "source": [
    "### given string is palindrom or not"
   ]
  },
  {
   "cell_type": "code",
   "execution_count": null,
   "metadata": {},
   "outputs": [],
   "source": [
    "s=input()\n",
    "s1=s[::-1]\n",
    "if(s==s1):\n",
    "    print(\"palindrom\")\n",
    "else:\n",
    "    print(\"not a palindrom\")"
   ]
  },
  {
   "cell_type": "markdown",
   "metadata": {},
   "source": [
    "### to print the series of all prime numbers"
   ]
  },
  {
   "cell_type": "code",
   "execution_count": null,
   "metadata": {},
   "outputs": [],
   "source": [
    "n=int(input(\"enter a numbers u want\"))\n",
    "for i in range(1,n+1):\n",
    "    count=0\n",
    "    for j in range(1,i+1):\n",
    "        if(i%j==0):\n",
    "            count+=1\n",
    "    if(count==2):\n",
    "            print(i)\n",
    "        \n",
    "        \n",
    "\n",
    "    \n",
    "        "
   ]
  },
  {
   "cell_type": "markdown",
   "metadata": {},
   "source": [
    "### you have been given 3 integers-l,r,k\n"
   ]
  },
  {
   "cell_type": "code",
   "execution_count": null,
   "metadata": {},
   "outputs": [],
   "source": [
    "l=int(input(\"enter l value\"))\n",
    "r=int(input(\"enter r value\"))\n",
    "k=int(input(\"enter k value\"))\n",
    "count=0\n",
    "for i in range(l,r+1):\n",
    "   \n",
    "    if(i%k==0):\n",
    "        count+=1\n",
    "print(count)\n",
    "    "
   ]
  },
  {
   "cell_type": "markdown",
   "metadata": {},
   "source": [
    "### ISBN 1401601499 valid or not"
   ]
  },
  {
   "cell_type": "code",
   "execution_count": null,
   "metadata": {},
   "outputs": [],
   "source": [
    "n=(input(\"enter number\"))\n",
    "c=1\n",
    "s=0\n",
    "for i in n:\n",
    "    s=s+int(i)*c\n",
    "    c+=1\n",
    "if(s%11==0):\n",
    "    print(\"valid\")\n",
    "else:\n",
    "    print(\"invalid\")\n"
   ]
  },
  {
   "cell_type": "markdown",
   "metadata": {},
   "source": [
    "### toggle string: you have been given a string S consisting of uppercase and lowercase english alphabets.you need to change the case of each alphabet in this String(strings)"
   ]
  },
  {
   "cell_type": "code",
   "execution_count": null,
   "metadata": {},
   "outputs": [],
   "source": [
    "n=input()\n",
    "s1=n.swapcase()\n",
    "s1"
   ]
  },
  {
   "cell_type": "markdown",
   "metadata": {},
   "source": [
    "### the first charachter has a weight of 1,the second charchter b has 2 and the third character again has weight of 1 so the summation here is equal to:(aba)1+2+1=4(strings)"
   ]
  },
  {
   "cell_type": "code",
   "execution_count": null,
   "metadata": {},
   "outputs": [],
   "source": [
    "s=input(\"enter string\")\n",
    "s1=0\n",
    "for i in s:\n",
    "    s1+=ord(i)-ord('a')+1\n",
    "print(s1)    "
   ]
  },
  {
   "cell_type": "markdown",
   "metadata": {},
   "source": [
    "## two strings: given two strings of equal length,you have to tell whether they both strings are identical"
   ]
  },
  {
   "cell_type": "code",
   "execution_count": null,
   "metadata": {},
   "outputs": [],
   "source": [
    "s1=input(\"enter  a string\")\n",
    "s2=input(\"enter b string\")\n",
    "c=0\n",
    "for i in s1:\n",
    "    if(i not in s2):\n",
    "        c=1\n",
    "if(c==1):\n",
    "    print(\"not identical\")\n",
    "else:\n",
    "    print(\"identical\")\n",
    "        \n"
   ]
  },
  {
   "cell_type": "markdown",
   "metadata": {},
   "source": [
    "### take a string \"problem solving using python\" find the length of the string \n"
   ]
  },
  {
   "cell_type": "code",
   "execution_count": null,
   "metadata": {},
   "outputs": [],
   "source": [
    "n=\"haritha\"\n",
    "s1=len(n)\n",
    "s1\n"
   ]
  },
  {
   "cell_type": "markdown",
   "metadata": {},
   "source": [
    "### change the String to lowercase"
   ]
  },
  {
   "cell_type": "code",
   "execution_count": null,
   "metadata": {},
   "outputs": [],
   "source": [
    "n=\"HARITHA\"\n",
    "s1=n.lower()\n",
    "s1"
   ]
  },
  {
   "cell_type": "markdown",
   "metadata": {},
   "source": [
    "### print the string reverse order"
   ]
  },
  {
   "cell_type": "code",
   "execution_count": null,
   "metadata": {},
   "outputs": [],
   "source": [
    "n=\"welcome swarnandhra\"\n",
    "s1=n[::-1]\n",
    "s1"
   ]
  },
  {
   "cell_type": "markdown",
   "metadata": {},
   "source": [
    "### find how many times \"s\" is repeated in a given string"
   ]
  },
  {
   "cell_type": "code",
   "execution_count": null,
   "metadata": {},
   "outputs": [],
   "source": [
    "n=int(input(\"enter a string\"))\n",
    "count=0\n",
    "for i in range(len(str))\n",
    "\n"
   ]
  },
  {
   "cell_type": "markdown",
   "metadata": {},
   "source": [
    "## E-maze in x:and y axies need to take i/p as LLRDDR(strings)\n",
    "## L-left R-right U-up D-down\n"
   ]
  },
  {
   "cell_type": "code",
   "execution_count": null,
   "metadata": {},
   "outputs": [],
   "source": [
    "a=input(\"enter string\")\n",
    "x=0\n",
    "y=0\n",
    "for i in a:\n",
    "    if(i=='R'):\n",
    "        x+=1\n",
    "    if(i=='L'):\n",
    "        x-=1\n",
    "    if(i=='U'):\n",
    "        y+=1\n",
    "    if(i=='D'):\n",
    "        y-=1\n",
    "    print('x=',x,'y=',y)    "
   ]
  },
  {
   "cell_type": "markdown",
   "metadata": {},
   "source": [
    "## 28-8-2019"
   ]
  },
  {
   "cell_type": "markdown",
   "metadata": {},
   "source": [
    "## input - 2+3 output-5 ### -,*,/"
   ]
  },
  {
   "cell_type": "code",
   "execution_count": null,
   "metadata": {},
   "outputs": [],
   "source": [
    "a=input(\"enter string\")\n",
    "a=a.split(' ')\n",
    "if a[1]=='+':\n",
    "    b=int(a[0])+int(a[2])\n",
    "if a[1]=='-':\n",
    "    b=int(a[0])-int(a[2])\n",
    "if a[1]=='*':\n",
    "    b=int(a[0])*int(a[2])\n",
    "if a[1]=='/':\n",
    "    b=int(a[0])/int(a[2])\n",
    "          \n",
    "print(b)\n",
    "    "
   ]
  },
  {
   "cell_type": "markdown",
   "metadata": {},
   "source": [
    "## profile photo upload condition\n"
   ]
  },
  {
   "cell_type": "code",
   "execution_count": null,
   "metadata": {},
   "outputs": [],
   "source": [
    "l=180\n",
    "h=int(input(\"enter h value\"))\n",
    "w=int(input(\"enter w value\"))\n",
    "if(l>h or l>w):\n",
    "    print(\"upload another\")\n",
    "elif(l<h or l<w):\n",
    "    print(\"crop it\")\n",
    "else:\n",
    "    print(\"accepted\")"
   ]
  },
  {
   "cell_type": "code",
   "execution_count": null,
   "metadata": {},
   "outputs": [],
   "source": [
    "width_height=180\n",
    "a=input.split()\n",
    "if(len(a)==2):\n",
    "    if(len(a[0]==3 and len(a[1]==3)):\n",
    "       \n",
    "       \n",
    "        "
   ]
  },
  {
   "cell_type": "markdown",
   "metadata": {},
   "source": [
    "## create a function to find the factorial of number¶"
   ]
  },
  {
   "cell_type": "code",
   "execution_count": null,
   "metadata": {},
   "outputs": [],
   "source": [
    "def fact(n):\n",
    "    f=1\n",
    "    for i in range(1,n+1):\n",
    "        \n",
    "        f=f*i\n",
    "    return f\n",
    "fact(5)\n",
    "\n",
    "    "
   ]
  },
  {
   "cell_type": "markdown",
   "metadata": {},
   "source": [
    "## function to print all numbers divisible by 6 and not a factor of 100 in given range (lb,ub) inclusive¶"
   ]
  },
  {
   "cell_type": "code",
   "execution_count": null,
   "metadata": {},
   "outputs": [],
   "source": [
    "def div(lb,ub):\n",
    "    \n",
    "    \n",
    "    for i in range(lb,ub+1):\n",
    "        if(i%6==0 and 100%i!=0):\n",
    "            print(i)\n",
    "div(1,100)\n"
   ]
  },
  {
   "cell_type": "markdown",
   "metadata": {},
   "source": [
    "## function to find the average of cubes of all the even number in given range(lb,ub)inclusive"
   ]
  },
  {
   "cell_type": "code",
   "execution_count": null,
   "metadata": {},
   "outputs": [],
   "source": [
    "def avg(lb,ub):\n",
    "    c=0\n",
    "    sum=0\n",
    "    for i in range(lb,ub+1):\n",
    "        if(i%2==0):\n",
    "            c+=1\n",
    "            sum=sum+(i*i*i)\n",
    "    a=sum/c\n",
    "    print(a)\n",
    "avg(1,11)    \n",
    "            "
   ]
  },
  {
   "cell_type": "markdown",
   "metadata": {},
   "source": [
    "## function to generate the list of factors for a given number\n"
   ]
  },
  {
   "cell_type": "code",
   "execution_count": null,
   "metadata": {},
   "outputs": [],
   "source": [
    "def fact(n):\n",
    "   \n",
    "    for i in range(1,n+1):\n",
    "        \n",
    "        if(n%i==0):\n",
    "         \n",
    "            print(i)\n",
    "fact(6)           "
   ]
  },
  {
   "cell_type": "markdown",
   "metadata": {},
   "source": [
    "## function to calculate the factorial of given number¶"
   ]
  },
  {
   "cell_type": "code",
   "execution_count": null,
   "metadata": {},
   "outputs": [],
   "source": [
    "def fact(n):\n",
    "    f=1\n",
    "    for i in range(1,n+1):\n",
    "        f=f*i\n",
    "    return f\n",
    "fact(5)        \n",
    "        "
   ]
  },
  {
   "cell_type": "markdown",
   "metadata": {},
   "source": [
    "## function to check if a given number in prime¶"
   ]
  },
  {
   "cell_type": "code",
   "execution_count": null,
   "metadata": {},
   "outputs": [],
   "source": [
    "def check(n):\n",
    "    for i in range(1,n+1):\n",
    "        c=0\n",
    "        for j in range(1,i+1):\n",
    "            if(i%j==0):\n",
    "                c+=1\n",
    "    if(c==2):\n",
    "        print(\"prime number\")\n",
    "    else:\n",
    "        print(\"non prime\")\n",
    "check(2)        "
   ]
  },
  {
   "cell_type": "markdown",
   "metadata": {},
   "source": [
    "## function to generete where the given number is perfect number or not"
   ]
  },
  {
   "cell_type": "code",
   "execution_count": null,
   "metadata": {},
   "outputs": [],
   "source": [
    "def per(n):\n",
    " \n",
    "    sum=0\n",
    "    for i in range(1,n):\n",
    "        if(n%i==0):\n",
    "            \n",
    "            \n",
    "            sum=sum+i\n",
    "    if(sum==n):\n",
    "        print(\"perfect num\")\n",
    "    else:\n",
    "        print(\"not a perfect\")\n",
    "per(6)\n",
    "        "
   ]
  },
  {
   "cell_type": "markdown",
   "metadata": {},
   "source": [
    "## find the sum of digits"
   ]
  },
  {
   "cell_type": "code",
   "execution_count": 12,
   "metadata": {},
   "outputs": [
    {
     "name": "stdout",
     "output_type": "stream",
     "text": [
      "6\n"
     ]
    }
   ],
   "source": [
    "data=\"sairam 123 lakshmi\"\n",
    "tot=0\n",
    "for i in data:\n",
    "    \n",
    "    if i.isdigit():\n",
    "        tot=tot+int(i)\n",
    "print(tot)    \n",
    "    \n",
    "    \n",
    "    "
   ]
  },
  {
   "cell_type": "markdown",
   "metadata": {},
   "source": [
    "## fin the number of characters(a-Z and A-z)"
   ]
  },
  {
   "cell_type": "code",
   "execution_count": 13,
   "metadata": {},
   "outputs": [
    {
     "name": "stdout",
     "output_type": "stream",
     "text": [
      "13\n"
     ]
    }
   ],
   "source": [
    "count=0\n",
    "for i in data:\n",
    "    if i.isalpha():\n",
    "        count+=1\n",
    "print(count)        \n",
    "        \n",
    "        \n",
    "    "
   ]
  },
  {
   "cell_type": "markdown",
   "metadata": {},
   "source": [
    "## find number of digits"
   ]
  },
  {
   "cell_type": "code",
   "execution_count": 32,
   "metadata": {},
   "outputs": [
    {
     "name": "stdout",
     "output_type": "stream",
     "text": [
      "4\n"
     ]
    }
   ],
   "source": [
    "count=0\n",
    "for i in data:\n",
    "    if i.isdigit():\n",
    "        count+=1\n",
    "print(count)        \n"
   ]
  },
  {
   "cell_type": "markdown",
   "metadata": {},
   "source": [
    "## find average of digits"
   ]
  },
  {
   "cell_type": "code",
   "execution_count": 35,
   "metadata": {},
   "outputs": [
    {
     "name": "stdout",
     "output_type": "stream",
     "text": [
      "2\n"
     ]
    }
   ],
   "source": [
    "\n",
    "tot=0\n",
    "count=0\n",
    "for i in data:\n",
    "    if i.isdigit():\n",
    "        \n",
    "        tot=tot+int(i)\n",
    "        count+=1\n",
    "avg=int(tot/count)\n",
    "print(avg)\n",
    "        \n"
   ]
  },
  {
   "cell_type": "code",
   "execution_count": 36,
   "metadata": {},
   "outputs": [
    {
     "ename": "SyntaxError",
     "evalue": "'return' outside function (<ipython-input-36-31c0efa6f315>, line 8)",
     "output_type": "error",
     "traceback": [
      "\u001b[1;36m  File \u001b[1;32m\"<ipython-input-36-31c0efa6f315>\"\u001b[1;36m, line \u001b[1;32m8\u001b[0m\n\u001b[1;33m    return tot\u001b[0m\n\u001b[1;37m    ^\u001b[0m\n\u001b[1;31mSyntaxError\u001b[0m\u001b[1;31m:\u001b[0m 'return' outside function\n"
     ]
    }
   ],
   "source": [
    "def SumOfDigits(data):\n",
    "\n",
    "    tot=0\n",
    "for i in data:\n",
    "    \n",
    "    if i.isdigit():\n",
    "        tot=tot+int(i)\n",
    "        return tot\n",
    "    "
   ]
  },
  {
   "cell_type": "code",
   "execution_count": 31,
   "metadata": {},
   "outputs": [
    {
     "ename": "NameError",
     "evalue": "name 'SumOfDigits' is not defined",
     "output_type": "error",
     "traceback": [
      "\u001b[1;31m---------------------------------------------------------------------------\u001b[0m",
      "\u001b[1;31mNameError\u001b[0m                                 Traceback (most recent call last)",
      "\u001b[1;32m<ipython-input-31-3dcdd65abcc1>\u001b[0m in \u001b[0;36m<module>\u001b[1;34m\u001b[0m\n\u001b[0;32m      1\u001b[0m \u001b[0mdata\u001b[0m\u001b[1;33m=\u001b[0m\u001b[1;34m'1234'\u001b[0m\u001b[1;33m\u001b[0m\u001b[1;33m\u001b[0m\u001b[0m\n\u001b[0;32m      2\u001b[0m \u001b[1;32mwhile\u001b[0m \u001b[1;32mTrue\u001b[0m\u001b[1;33m:\u001b[0m\u001b[1;33m\u001b[0m\u001b[1;33m\u001b[0m\u001b[0m\n\u001b[1;32m----> 3\u001b[1;33m     \u001b[0mresult\u001b[0m\u001b[1;33m=\u001b[0m\u001b[0mstr\u001b[0m\u001b[1;33m(\u001b[0m\u001b[0mSumOfDigits\u001b[0m\u001b[1;33m(\u001b[0m\u001b[0mdata\u001b[0m\u001b[1;33m)\u001b[0m\u001b[1;33m)\u001b[0m     \u001b[1;31m#'10'\u001b[0m\u001b[1;33m\u001b[0m\u001b[1;33m\u001b[0m\u001b[0m\n\u001b[0m\u001b[0;32m      4\u001b[0m     \u001b[1;32mif\u001b[0m \u001b[0mlen\u001b[0m\u001b[1;33m(\u001b[0m\u001b[0mresult\u001b[0m\u001b[1;33m)\u001b[0m\u001b[1;33m>\u001b[0m\u001b[1;36m1\u001b[0m\u001b[1;33m:\u001b[0m\u001b[1;33m\u001b[0m\u001b[1;33m\u001b[0m\u001b[0m\n\u001b[0;32m      5\u001b[0m         \u001b[0mdata\u001b[0m\u001b[1;33m=\u001b[0m\u001b[0mresult\u001b[0m\u001b[1;33m\u001b[0m\u001b[1;33m\u001b[0m\u001b[0m\n",
      "\u001b[1;31mNameError\u001b[0m: name 'SumOfDigits' is not defined"
     ]
    }
   ],
   "source": [
    "data='1234'\n",
    "while True:\n",
    "    result=str(SumOfDigits(data))     #'10'\n",
    "    if len(result)>1:\n",
    "        data=result\n",
    "    else:\n",
    "        break\n",
    "print(data)"
   ]
  },
  {
   "cell_type": "code",
   "execution_count": 37,
   "metadata": {},
   "outputs": [
    {
     "name": "stdout",
     "output_type": "stream",
     "text": [
      "{'alpha': 6, 'digits': 3}\n"
     ]
    }
   ],
   "source": [
    "data='sairam123'\n",
    "result={} #{'alpha':1}\n",
    "for i in data:\n",
    "    if i.isalpha():\n",
    "        result['alpha']=result.get('alpha',0)+1\n",
    "    if i.isdigit():\n",
    "        result['digits']=result.get('digits',0)+1\n",
    "print(result)\n",
    "        \n",
    "    \n"
   ]
  },
  {
   "cell_type": "markdown",
   "metadata": {},
   "source": [
    "## find frequency of characters"
   ]
  },
  {
   "cell_type": "code",
   "execution_count": 52,
   "metadata": {},
   "outputs": [
    {
     "name": "stdout",
     "output_type": "stream",
     "text": [
      "{'p': 2, 'y': 1, 't': 1, 'h': 1, 'o': 2, 'n': 1, ' ': 1, 'r': 2, 'g': 1, 'a': 1, 'm': 1}\n"
     ]
    }
   ],
   "source": [
    "name='python program'\n",
    "frequency={}\n",
    "for i in name:\n",
    "    if i in frequency:\n",
    "        frequency[i]+=1\n",
    "    else:\n",
    "        frequency[i]=1\n",
    "print(frequency)\n"
   ]
  },
  {
   "cell_type": "markdown",
   "metadata": {},
   "source": [
    "## find frequency of url"
   ]
  },
  {
   "cell_type": "code",
   "execution_count": 43,
   "metadata": {},
   "outputs": [],
   "source": [
    "url=['www.google.com','www.gmail.com','www.yahoo.com','www.google.com']\n",
    "frequency={}\n",
    "for i in url:\n",
    "    "
   ]
  },
  {
   "cell_type": "markdown",
   "metadata": {},
   "source": [
    "## develop pattern for company name end with 'e' and must and should be 5 characters only"
   ]
  },
  {
   "cell_type": "code",
   "execution_count": 21,
   "metadata": {},
   "outputs": [
    {
     "name": "stdout",
     "output_type": "stream",
     "text": [
      "apple\n"
     ]
    }
   ],
   "source": [
    "import re\n",
    "companies=['apple','microsoft','google','tcs']\n",
    "for i in companies:\n",
    "    if re.search('^....e$',i):\n",
    "        print(i)\n",
    "        \n",
    "       \n",
    "\n",
    "        \n",
    "    "
   ]
  },
  {
   "cell_type": "markdown",
   "metadata": {},
   "source": [
    "## find the name at  least 5 charcters"
   ]
  },
  {
   "cell_type": "code",
   "execution_count": 22,
   "metadata": {},
   "outputs": [
    {
     "name": "stdout",
     "output_type": "stream",
     "text": [
      "apple\n",
      "microsoft\n",
      "google\n"
     ]
    }
   ],
   "source": [
    "import re\n",
    "companies=['apple','microsoft','google','tcs']\n",
    "for i in companies:\n",
    "    if re.search('.....',i):\n",
    "        print(i)\n",
    "        \n",
    "       \n"
   ]
  },
  {
   "cell_type": "markdown",
   "metadata": {},
   "source": [
    "## print only characters name"
   ]
  },
  {
   "cell_type": "code",
   "execution_count": 37,
   "metadata": {},
   "outputs": [
    {
     "name": "stdout",
     "output_type": "stream",
     "text": [
      "apple\n"
     ]
    }
   ],
   "source": [
    "import re\n",
    "companies=['apple','microsoft','google','tcs']\n",
    "for i in companies:\n",
    "    if re.search('^.{5}$',i):\n",
    "        print(i)\n",
    "        "
   ]
  },
  {
   "cell_type": "markdown",
   "metadata": {},
   "source": [
    "## atleast 3 and atmost 5"
   ]
  },
  {
   "cell_type": "code",
   "execution_count": 38,
   "metadata": {},
   "outputs": [
    {
     "name": "stdout",
     "output_type": "stream",
     "text": [
      "apple\n",
      "tcs\n"
     ]
    }
   ],
   "source": [
    "import re\n",
    "companies=['apple','microsoft','google','tcs']\n",
    "for i in companies:\n",
    "    if re.search('^.{3,5}$',i):\n",
    "        print(i)\n",
    "        "
   ]
  },
  {
   "cell_type": "code",
   "execution_count": 42,
   "metadata": {},
   "outputs": [
    {
     "name": "stdout",
     "output_type": "stream",
     "text": [
      "9545859074\n",
      "93674634871\n",
      "8567326742\n"
     ]
    }
   ],
   "source": [
    "mobile=['9545859074','56745239490','93674634871','8567326742']\n",
    "for i in mobile:\n",
    "    if re.search('^[8-9]',i):\n",
    "        print(i)"
   ]
  },
  {
   "cell_type": "code",
   "execution_count": 44,
   "metadata": {},
   "outputs": [
    {
     "name": "stdout",
     "output_type": "stream",
     "text": [
      "56745239490\n",
      "63674634871\n"
     ]
    }
   ],
   "source": [
    "mobile=['9545859074','56745239490','63674634871','8567326742']\n",
    "for i in mobile:\n",
    "    if re.search('^[^8-9]',i):\n",
    "        print(i)"
   ]
  },
  {
   "cell_type": "code",
   "execution_count": 45,
   "metadata": {},
   "outputs": [
    {
     "name": "stdout",
     "output_type": "stream",
     "text": [
      "56745239490\n",
      "8567326742\n"
     ]
    }
   ],
   "source": [
    "mobile=['9545859074','56745239490','93674634871','8567326742']\n",
    "for i in mobile:\n",
    "    if re.search('^[^9]',i):\n",
    "        print(i)"
   ]
  },
  {
   "cell_type": "code",
   "execution_count": 46,
   "metadata": {},
   "outputs": [
    {
     "name": "stdout",
     "output_type": "stream",
     "text": [
      "9545859074\n",
      "56745239490\n",
      "93674634871\n",
      "8567326742\n"
     ]
    }
   ],
   "source": [
    "mobile=['9545859074','56745239490','93674634871','8567326742']\n",
    "for i in mobile:\n",
    "    if re.search('^[1-9]',i):\n",
    "        print(i)"
   ]
  },
  {
   "cell_type": "code",
   "execution_count": 50,
   "metadata": {},
   "outputs": [
    {
     "name": "stdout",
     "output_type": "stream",
     "text": [
      "9545859074\n",
      "6674523949\n"
     ]
    }
   ],
   "source": [
    "mobile=['9545859074','6674523949','936746sdfhg3','85673gf26742','2343728356']\n",
    "for i in mobile:\n",
    "    if re.search('^[6-9]\\d{9}$',i):\n",
    "        print(i)"
   ]
  },
  {
   "cell_type": "markdown",
   "metadata": {},
   "source": []
  },
  {
   "cell_type": "code",
   "execution_count": 15,
   "metadata": {},
   "outputs": [
    {
     "name": "stdout",
     "output_type": "stream",
     "text": [
      " i am from vijayawada my mobile  we stay here from last  days"
     ]
    }
   ],
   "source": [
    "import re\n",
    "message=\" i am from vijayawada my mobile 9564732856 we stay here from last 3 days\"\n",
    "for mes in message:\n",
    "    if re.search('\\D',mes):\n",
    "        print(mes,end='')"
   ]
  },
  {
   "cell_type": "code",
   "execution_count": 30,
   "metadata": {},
   "outputs": [
    {
     "data": {
      "text/plain": [
       "['i',\n",
       " 'am',\n",
       " 'from',\n",
       " 'vijayawada',\n",
       " 'my',\n",
       " 'mobile',\n",
       " 'we',\n",
       " 'stay',\n",
       " 'here',\n",
       " 'from',\n",
       " 'last',\n",
       " 'days']"
      ]
     },
     "execution_count": 30,
     "metadata": {},
     "output_type": "execute_result"
    }
   ],
   "source": [
    "import re\n",
    "message=\" i am from vijayawada$ my mobile 9564732856 we stay here from last 3 days\"\n",
    "re.findall('[a-zA-Z]+',message)\n",
    "        "
   ]
  },
  {
   "cell_type": "code",
   "execution_count": 31,
   "metadata": {},
   "outputs": [
    {
     "data": {
      "text/plain": [
       "['am',\n",
       " 'from',\n",
       " 'vijayawada',\n",
       " 'sai',\n",
       " 'my',\n",
       " 'mobile',\n",
       " 'we',\n",
       " 'stay',\n",
       " 'here',\n",
       " 'from',\n",
       " 'last',\n",
       " 'days']"
      ]
     },
     "execution_count": 31,
     "metadata": {},
     "output_type": "execute_result"
    }
   ],
   "source": [
    "import re\n",
    "message=\" i am from vijayawada$sai my mobile 9564732856 we stay here from last 3 days\"\n",
    "re.findall('[a-zA-Z]+\\w',message)\n",
    "        "
   ]
  },
  {
   "cell_type": "code",
   "execution_count": 32,
   "metadata": {},
   "outputs": [
    {
     "data": {
      "text/plain": [
       "['123', '135']"
      ]
     },
     "execution_count": 32,
     "metadata": {},
     "output_type": "execute_result"
    }
   ],
   "source": [
    "data='sai 123 ram 135'\n",
    "re.findall('\\d+',data)"
   ]
  },
  {
   "cell_type": "code",
   "execution_count": 46,
   "metadata": {},
   "outputs": [
    {
     "name": "stdout",
     "output_type": "stream",
     "text": [
      "valid\n"
     ]
    }
   ],
   "source": [
    "gmail='harithakadali963@gmail.com'\n",
    "if re.search('\\w.\\W',gmail):\n",
    "    print(\"valid\")\n",
    "else:\n",
    "    print(\"invalid\")\n",
    "    \n",
    "    \n"
   ]
  },
  {
   "cell_type": "markdown",
   "metadata": {},
   "source": [
    "## create function for mobile number validator"
   ]
  },
  {
   "cell_type": "code",
   "execution_count": 58,
   "metadata": {},
   "outputs": [
    {
     "name": "stdout",
     "output_type": "stream",
     "text": [
      "valid\n"
     ]
    }
   ],
   "source": [
    "mobile='9567391235'\n",
    "if re.search('^9.{9}$',mobile):\n",
    "    print(\"valid\")\n",
    "else:\n",
    "    print(\"invalid\")"
   ]
  },
  {
   "cell_type": "markdown",
   "metadata": {},
   "source": [
    "## create function for person name validator\n",
    "### (A.Sairam,Sairam.A,A Sairam,Sairam A,Sairam)"
   ]
  },
  {
   "cell_type": "code",
   "execution_count": 68,
   "metadata": {},
   "outputs": [
    {
     "name": "stdout",
     "output_type": "stream",
     "text": [
      "valid\n"
     ]
    }
   ],
   "source": [
    "name='A.Sairam,Sairam.A,A Sairam,Sairam A,Sairam'\n",
    "if re.findall('\\w',name):\n",
    "    print(\"valid\")\n",
    "\n",
    "   \n",
    "\n"
   ]
  },
  {
   "cell_type": "markdown",
   "metadata": {},
   "source": [
    "## create function to check given data valid or not for given pattern"
   ]
  },
  {
   "cell_type": "code",
   "execution_count": null,
   "metadata": {},
   "outputs": [],
   "source": []
  }
 ],
 "metadata": {
  "kernelspec": {
   "display_name": "Python 3",
   "language": "python",
   "name": "python3"
  },
  "language_info": {
   "codemirror_mode": {
    "name": "ipython",
    "version": 3
   },
   "file_extension": ".py",
   "mimetype": "text/x-python",
   "name": "python",
   "nbconvert_exporter": "python",
   "pygments_lexer": "ipython3",
   "version": "3.7.3"
  }
 },
 "nbformat": 4,
 "nbformat_minor": 2
}
