{
 "cells": [
  {
   "cell_type": "code",
   "execution_count": 1,
   "metadata": {},
   "outputs": [
    {
     "name": "stdout",
     "output_type": "stream",
     "text": [
      "enter a num5\n",
      "120\n"
     ]
    }
   ],
   "source": [
    "n=int(input(\"enter a num\"))\n",
    "fact=1\n",
    "for i in range(1,n+1):\n",
    "    fact=fact*i\n",
    "print(fact)\n",
    " "
   ]
  },
  {
   "cell_type": "markdown",
   "metadata": {},
   "source": [
    "## write a program to print fisrt prime numbers\n"
   ]
  },
  {
   "cell_type": "code",
   "execution_count": 6,
   "metadata": {},
   "outputs": [
    {
     "name": "stdout",
     "output_type": "stream",
     "text": [
      "enter a numbers u want50\n",
      "2\n",
      "3\n",
      "5\n",
      "7\n",
      "11\n",
      "13\n",
      "17\n",
      "19\n",
      "23\n",
      "29\n",
      "31\n",
      "37\n",
      "41\n",
      "43\n",
      "47\n"
     ]
    }
   ],
   "source": [
    "\n",
    "n=int(input(\"enter a numbers u want\"))\n",
    "for i in range(1,n+1):\n",
    "    count=0\n",
    "    for j in range(1,i+1):\n",
    "        if(i%j==0):\n",
    "            count+=1\n",
    "    if(count==2):\n",
    "            print(i)\n",
    "        \n",
    "        \n",
    "\n",
    "    "
   ]
  },
  {
   "cell_type": "markdown",
   "metadata": {},
   "source": [
    "## 27-august-2019"
   ]
  },
  {
   "cell_type": "markdown",
   "metadata": {},
   "source": [
    "###  ipynp-interactive python notebook"
   ]
  },
  {
   "cell_type": "markdown",
   "metadata": {},
   "source": [
    "## caluclate the square root of given number"
   ]
  },
  {
   "cell_type": "code",
   "execution_count": null,
   "metadata": {},
   "outputs": [],
   "source": []
  },
  {
   "cell_type": "markdown",
   "metadata": {},
   "source": [
    "## print count of numbers and avg of that number taken by the user in a single line"
   ]
  },
  {
   "cell_type": "code",
   "execution_count": 13,
   "metadata": {},
   "outputs": [
    {
     "name": "stdout",
     "output_type": "stream",
     "text": [
      "1#2#3#4\n",
      "2\n"
     ]
    }
   ],
   "source": [
    "s1=input()\n",
    "n=s1.split(\"#\")\n",
    "sum=0\n",
    "count=0\n",
    "for i in n:\n",
    "    sum=sum+int(i)\n",
    "    count+=1\n",
    "    avg=(sum//count)\n",
    "  \n",
    "print(avg)\n"
   ]
  },
  {
   "cell_type": "markdown",
   "metadata": {},
   "source": [
    "### given string is palindrom or not"
   ]
  },
  {
   "cell_type": "code",
   "execution_count": 2,
   "metadata": {},
   "outputs": [
    {
     "name": "stdout",
     "output_type": "stream",
     "text": [
      "haritha\n",
      "not a palindrom\n"
     ]
    }
   ],
   "source": [
    "s=input()\n",
    "s1=s[::-1]\n",
    "if(s==s1):\n",
    "    print(\"palindrom\")\n",
    "else:\n",
    "    print(\"not a palindrom\")"
   ]
  },
  {
   "cell_type": "markdown",
   "metadata": {},
   "source": [
    "### to print the series of all prime numbers"
   ]
  },
  {
   "cell_type": "code",
   "execution_count": 7,
   "metadata": {},
   "outputs": [
    {
     "name": "stdout",
     "output_type": "stream",
     "text": [
      "enter a numbers u want100\n",
      "2\n",
      "3\n",
      "5\n",
      "7\n",
      "11\n",
      "13\n",
      "17\n",
      "19\n",
      "23\n",
      "29\n",
      "31\n",
      "37\n",
      "41\n",
      "43\n",
      "47\n",
      "53\n",
      "59\n",
      "61\n",
      "67\n",
      "71\n",
      "73\n",
      "79\n",
      "83\n",
      "89\n",
      "97\n"
     ]
    }
   ],
   "source": [
    "n=int(input(\"enter a numbers u want\"))\n",
    "for i in range(1,n+1):\n",
    "    count=0\n",
    "    for j in range(1,i+1):\n",
    "        if(i%j==0):\n",
    "            count+=1\n",
    "    if(count==2):\n",
    "            print(i)\n",
    "        \n",
    "        \n",
    "\n",
    "    \n",
    "        "
   ]
  },
  {
   "cell_type": "markdown",
   "metadata": {},
   "source": [
    "### you have been given 3 integers-l,r,k\n"
   ]
  },
  {
   "cell_type": "code",
   "execution_count": 2,
   "metadata": {},
   "outputs": [
    {
     "name": "stdout",
     "output_type": "stream",
     "text": [
      "enter l value1\n",
      "enter r value10\n",
      "enter k value2\n",
      "5\n"
     ]
    }
   ],
   "source": [
    "l=int(input(\"enter l value\"))\n",
    "r=int(input(\"enter r value\"))\n",
    "k=int(input(\"enter k value\"))\n",
    "count=0\n",
    "for i in range(l,r+1):\n",
    "   \n",
    "    if(i%k==0):\n",
    "        count+=1\n",
    "print(count)\n",
    "    "
   ]
  },
  {
   "cell_type": "markdown",
   "metadata": {},
   "source": [
    "### ISBN 1401601499 valid or not"
   ]
  },
  {
   "cell_type": "code",
   "execution_count": 27,
   "metadata": {},
   "outputs": [
    {
     "name": "stdout",
     "output_type": "stream",
     "text": [
      "enter number1401601499\n",
      "valid\n"
     ]
    }
   ],
   "source": [
    "n=(input(\"enter number\"))\n",
    "c=1\n",
    "s=0\n",
    "for i in n:\n",
    "    s=s+int(i)*c\n",
    "    c+=1\n",
    "if(s%11==0):\n",
    "    print(\"valid\")\n",
    "else:\n",
    "    print(\"invalid\")\n"
   ]
  },
  {
   "cell_type": "markdown",
   "metadata": {},
   "source": [
    "### toggle string: you have been given a string S consisting of uppercase and lowercase english alphabets.you need to change the case of each alphabet in this String(strings)"
   ]
  },
  {
   "cell_type": "code",
   "execution_count": 25,
   "metadata": {},
   "outputs": [
    {
     "name": "stdout",
     "output_type": "stream",
     "text": [
      "HariTha\n"
     ]
    },
    {
     "data": {
      "text/plain": [
       "'hARItHA'"
      ]
     },
     "execution_count": 25,
     "metadata": {},
     "output_type": "execute_result"
    }
   ],
   "source": [
    "n=input()\n",
    "s1=n.swapcase()\n",
    "s1"
   ]
  },
  {
   "cell_type": "markdown",
   "metadata": {},
   "source": [
    "### the first charachter has a weight of 1,the second charchter b has 2 and the third character again has weight of 1 so the summation here is equal to:(aba)1+2+1=4(strings)"
   ]
  },
  {
   "cell_type": "code",
   "execution_count": 23,
   "metadata": {},
   "outputs": [
    {
     "name": "stdout",
     "output_type": "stream",
     "text": [
      "enter stringaba\n",
      "4\n"
     ]
    }
   ],
   "source": [
    "s=input(\"enter string\")\n",
    "s1=0\n",
    "for i in s:\n",
    "    s1+=ord(i)-ord('a')+1\n",
    "print(s1)    "
   ]
  },
  {
   "cell_type": "markdown",
   "metadata": {},
   "source": [
    "## two strings: given two strings of equal length,you have to tell whether they both strings are identical"
   ]
  },
  {
   "cell_type": "code",
   "execution_count": 26,
   "metadata": {},
   "outputs": [
    {
     "name": "stdout",
     "output_type": "stream",
     "text": [
      "enter  a stringharitha\n",
      "enter b stringharitha\n",
      "identical\n"
     ]
    }
   ],
   "source": [
    "s1=input(\"enter  a string\")\n",
    "s2=input(\"enter b string\")\n",
    "c=0\n",
    "for i in s1:\n",
    "    if(i not in s2):\n",
    "        c=1\n",
    "if(c==1):\n",
    "    print(\"not identical\")\n",
    "else:\n",
    "    print(\"identical\")\n",
    "        \n"
   ]
  },
  {
   "cell_type": "markdown",
   "metadata": {},
   "source": [
    "### take a string \"problem solving using python\" find the length of the string \n"
   ]
  },
  {
   "cell_type": "code",
   "execution_count": 41,
   "metadata": {},
   "outputs": [
    {
     "data": {
      "text/plain": [
       "7"
      ]
     },
     "execution_count": 41,
     "metadata": {},
     "output_type": "execute_result"
    }
   ],
   "source": [
    "n=\"haritha\"\n",
    "s1=len(n)\n",
    "s1\n"
   ]
  },
  {
   "cell_type": "markdown",
   "metadata": {},
   "source": [
    "### change the String to lowercase"
   ]
  },
  {
   "cell_type": "code",
   "execution_count": 48,
   "metadata": {},
   "outputs": [
    {
     "data": {
      "text/plain": [
       "'haritha'"
      ]
     },
     "execution_count": 48,
     "metadata": {},
     "output_type": "execute_result"
    }
   ],
   "source": [
    "n=\"HARITHA\"\n",
    "s1=n.lower()\n",
    "s1"
   ]
  },
  {
   "cell_type": "markdown",
   "metadata": {},
   "source": [
    "### print the string reverse order"
   ]
  },
  {
   "cell_type": "code",
   "execution_count": 49,
   "metadata": {},
   "outputs": [
    {
     "data": {
      "text/plain": [
       "'arhdnanraws emoclew'"
      ]
     },
     "execution_count": 49,
     "metadata": {},
     "output_type": "execute_result"
    }
   ],
   "source": [
    "n=\"welcome swarnandhra\"\n",
    "s1=n[::-1]\n",
    "s1"
   ]
  },
  {
   "cell_type": "markdown",
   "metadata": {},
   "source": [
    "### find how many times \"s\" is repeated in a given string"
   ]
  },
  {
   "cell_type": "code",
   "execution_count": null,
   "metadata": {},
   "outputs": [],
   "source": [
    "n=int(input(\"enter a string\"))\n",
    "count=0\n",
    "for i in range(len(str))\n",
    "\n"
   ]
  },
  {
   "cell_type": "markdown",
   "metadata": {},
   "source": [
    "## E-maze in x:and y axies need to take i/p as LLRDDR(strings)\n",
    "## L-left R-right U-up D-down\n"
   ]
  },
  {
   "cell_type": "code",
   "execution_count": 1,
   "metadata": {},
   "outputs": [
    {
     "name": "stdout",
     "output_type": "stream",
     "text": [
      "enter stringLLRDDR\n",
      "x= -1 y= 0\n",
      "x= -2 y= 0\n",
      "x= -1 y= 0\n",
      "x= -1 y= -1\n",
      "x= -1 y= -2\n",
      "x= 0 y= -2\n"
     ]
    }
   ],
   "source": [
    "a=input(\"enter string\")\n",
    "x=0\n",
    "y=0\n",
    "for i in a:\n",
    "    if(i=='R'):\n",
    "        x+=1\n",
    "    if(i=='L'):\n",
    "        x-=1\n",
    "    if(i=='U'):\n",
    "        y+=1\n",
    "    if(i=='D'):\n",
    "        y-=1\n",
    "    print('x=',x,'y=',y)    "
   ]
  },
  {
   "cell_type": "markdown",
   "metadata": {},
   "source": [
    "## 28-8-2019"
   ]
  },
  {
   "cell_type": "markdown",
   "metadata": {},
   "source": [
    "## input - 2+3 output-5 ### -,*,/"
   ]
  },
  {
   "cell_type": "code",
   "execution_count": 20,
   "metadata": {},
   "outputs": [
    {
     "name": "stdout",
     "output_type": "stream",
     "text": [
      "enter string2 + 3\n",
      "5\n"
     ]
    }
   ],
   "source": [
    "a=input(\"enter string\")\n",
    "a=a.split(' ')\n",
    "if a[1]=='+':\n",
    "    b=int(a[0])+int(a[2])\n",
    "if a[1]=='-':\n",
    "    b=int(a[0])-int(a[2])\n",
    "if a[1]=='*':\n",
    "    b=int(a[0])*int(a[2])\n",
    "if a[1]=='/':\n",
    "    b=int(a[0])/int(a[2])\n",
    "          \n",
    "print(b)\n",
    "    "
   ]
  },
  {
   "cell_type": "markdown",
   "metadata": {},
   "source": [
    "## profile photo upload condition\n"
   ]
  },
  {
   "cell_type": "code",
   "execution_count": 7,
   "metadata": {},
   "outputs": [
    {
     "name": "stdout",
     "output_type": "stream",
     "text": [
      "enter h value180\n",
      "enter w value180\n",
      "accepted\n"
     ]
    }
   ],
   "source": [
    "l=180\n",
    "h=int(input(\"enter h value\"))\n",
    "w=int(input(\"enter w value\"))\n",
    "if(l>h or l>w):\n",
    "    print(\"upload another\")\n",
    "elif(l<h or l<w):\n",
    "    print(\"crop it\")\n",
    "else:\n",
    "    print(\"accepted\")"
   ]
  },
  {
   "cell_type": "code",
   "execution_count": null,
   "metadata": {},
   "outputs": [],
   "source": [
    "width_height=180\n",
    "a=input.split()\n",
    "if(len(a)==2):\n",
    "    if(len(a[0]==3 and len(a[1]==3)):\n",
    "       \n",
    "        "
   ]
  }
 ],
 "metadata": {
  "kernelspec": {
   "display_name": "Python 3",
   "language": "python",
   "name": "python3"
  },
  "language_info": {
   "codemirror_mode": {
    "name": "ipython",
    "version": 3
   },
   "file_extension": ".py",
   "mimetype": "text/x-python",
   "name": "python",
   "nbconvert_exporter": "python",
   "pygments_lexer": "ipython3",
   "version": "3.7.3"
  }
 },
 "nbformat": 4,
 "nbformat_minor": 2
}
