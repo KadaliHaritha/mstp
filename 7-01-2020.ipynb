{
 "cells": [
  {
   "cell_type": "markdown",
   "metadata": {},
   "source": [
    "### Supervised Learning\n",
    "#### Regression\n",
    "##### Linear Regression"
   ]
  },
  {
   "cell_type": "code",
   "execution_count": 1,
   "metadata": {},
   "outputs": [],
   "source": [
    "\n",
    "import pandas as pd\n",
    "import numpy as np\n",
    "import matplotlib.pyplot as plt"
   ]
  },
  {
   "cell_type": "code",
   "execution_count": 2,
   "metadata": {},
   "outputs": [],
   "source": [
    "x=np.array([1,2,3,4,5])"
   ]
  },
  {
   "cell_type": "code",
   "execution_count": 3,
   "metadata": {},
   "outputs": [
    {
     "data": {
      "text/plain": [
       "array([1, 2, 3, 4, 5])"
      ]
     },
     "execution_count": 3,
     "metadata": {},
     "output_type": "execute_result"
    }
   ],
   "source": [
    "x"
   ]
  },
  {
   "cell_type": "code",
   "execution_count": 4,
   "metadata": {},
   "outputs": [],
   "source": [
    "y=np.array([3,5,7,9,8])"
   ]
  },
  {
   "cell_type": "code",
   "execution_count": 5,
   "metadata": {},
   "outputs": [
    {
     "data": {
      "text/plain": [
       "array([3, 5, 7, 9, 8])"
      ]
     },
     "execution_count": 5,
     "metadata": {},
     "output_type": "execute_result"
    }
   ],
   "source": [
    "y"
   ]
  },
  {
   "cell_type": "code",
   "execution_count": 6,
   "metadata": {},
   "outputs": [],
   "source": [
    "xm=np.mean(x)"
   ]
  },
  {
   "cell_type": "code",
   "execution_count": 7,
   "metadata": {},
   "outputs": [
    {
     "data": {
      "text/plain": [
       "3.0"
      ]
     },
     "execution_count": 7,
     "metadata": {},
     "output_type": "execute_result"
    }
   ],
   "source": [
    "xm"
   ]
  },
  {
   "cell_type": "code",
   "execution_count": 8,
   "metadata": {},
   "outputs": [
    {
     "data": {
      "text/plain": [
       "6.4"
      ]
     },
     "execution_count": 8,
     "metadata": {},
     "output_type": "execute_result"
    }
   ],
   "source": [
    "ym=np.mean(y)\n",
    "ym"
   ]
  },
  {
   "cell_type": "code",
   "execution_count": 9,
   "metadata": {},
   "outputs": [],
   "source": [
    "a=x-xm"
   ]
  },
  {
   "cell_type": "code",
   "execution_count": 10,
   "metadata": {},
   "outputs": [
    {
     "data": {
      "text/plain": [
       "array([-2., -1.,  0.,  1.,  2.])"
      ]
     },
     "execution_count": 10,
     "metadata": {},
     "output_type": "execute_result"
    }
   ],
   "source": [
    "a"
   ]
  },
  {
   "cell_type": "code",
   "execution_count": 11,
   "metadata": {},
   "outputs": [
    {
     "data": {
      "text/plain": [
       "array([-3.4, -1.4,  0.6,  2.6,  1.6])"
      ]
     },
     "execution_count": 11,
     "metadata": {},
     "output_type": "execute_result"
    }
   ],
   "source": [
    "b=y-ym\n",
    "b"
   ]
  },
  {
   "cell_type": "code",
   "execution_count": 12,
   "metadata": {},
   "outputs": [
    {
     "data": {
      "text/plain": [
       "2.200000000000001"
      ]
     },
     "execution_count": 12,
     "metadata": {},
     "output_type": "execute_result"
    }
   ],
   "source": [
    "a=len(y)\n",
    "d=0\n",
    "n=0\n",
    "for i in range(a):\n",
    "    n+=((x[i]-xm)*(y[i]-ym))\n",
    "    d+=((x[i]-xm)**2)\n",
    "m=n/d\n",
    "c=ym-(m*xm)\n",
    "c\n"
   ]
  },
  {
   "cell_type": "code",
   "execution_count": 13,
   "metadata": {},
   "outputs": [
    {
     "data": {
      "text/plain": [
       "[3.600000000000001,\n",
       " 5.000000000000001,\n",
       " 6.4,\n",
       " 7.800000000000001,\n",
       " 9.200000000000001]"
      ]
     },
     "execution_count": 13,
     "metadata": {},
     "output_type": "execute_result"
    }
   ],
   "source": [
    "yp=[]\n",
    "for i in range(a):\n",
    "    b=m*x[i]+c\n",
    "    yp.append(b)\n",
    "yp"
   ]
  },
  {
   "cell_type": "code",
   "execution_count": 14,
   "metadata": {},
   "outputs": [
    {
     "data": {
      "text/plain": [
       "[<matplotlib.lines.Line2D at 0x19b14e7fb00>]"
      ]
     },
     "execution_count": 14,
     "metadata": {},
     "output_type": "execute_result"
    },
    {
     "data": {
      "image/png": "[encoded data removed]",
      "text/plain": [
       "<Figure size 432x288 with 1 Axes>"
      ]
     },
     "metadata": {
      "needs_background": "light"
     },
     "output_type": "display_data"
    }
   ],
   "source": [
    "plt.plot(x,yp)"
   ]
  },
  {
   "cell_type": "code",
   "execution_count": 15,
   "metadata": {},
   "outputs": [
    {
     "data": {
      "text/html": [
       "<div>\n",
       "<style scoped>\n",
       "    .dataframe tbody tr th:only-of-type {\n",
       "        vertical-align: middle;\n",
       "    }\n",
       "\n",
       "    .dataframe tbody tr th {\n",
       "        vertical-align: top;\n",
       "    }\n",
       "\n",
       "    .dataframe thead th {\n",
       "        text-align: right;\n",
       "    }\n",
       "</style>\n",
       "<table border=\"1\" class=\"dataframe\">\n",
       "  <thead>\n",
       "    <tr style=\"text-align: right;\">\n",
       "      <th></th>\n",
       "      <th>Gender</th>\n",
       "      <th>Age Range</th>\n",
       "      <th>Head Size(cm^3)</th>\n",
       "      <th>Brain Weight(grams)</th>\n",
       "    </tr>\n",
       "  </thead>\n",
       "  <tbody>\n",
       "    <tr>\n",
       "      <th>232</th>\n",
       "      <td>2</td>\n",
       "      <td>2</td>\n",
       "      <td>3214</td>\n",
       "      <td>1110</td>\n",
       "    </tr>\n",
       "    <tr>\n",
       "      <th>233</th>\n",
       "      <td>2</td>\n",
       "      <td>2</td>\n",
       "      <td>3394</td>\n",
       "      <td>1215</td>\n",
       "    </tr>\n",
       "    <tr>\n",
       "      <th>234</th>\n",
       "      <td>2</td>\n",
       "      <td>2</td>\n",
       "      <td>3233</td>\n",
       "      <td>1104</td>\n",
       "    </tr>\n",
       "    <tr>\n",
       "      <th>235</th>\n",
       "      <td>2</td>\n",
       "      <td>2</td>\n",
       "      <td>3352</td>\n",
       "      <td>1170</td>\n",
       "    </tr>\n",
       "    <tr>\n",
       "      <th>236</th>\n",
       "      <td>2</td>\n",
       "      <td>2</td>\n",
       "      <td>3391</td>\n",
       "      <td>1120</td>\n",
       "    </tr>\n",
       "  </tbody>\n",
       "</table>\n",
       "</div>"
      ],
      "text/plain": [
       "     Gender  Age Range  Head Size(cm^3)  Brain Weight(grams)\n",
       "232       2          2             3214                 1110\n",
       "233       2          2             3394                 1215\n",
       "234       2          2             3233                 1104\n",
       "235       2          2             3352                 1170\n",
       "236       2          2             3391                 1120"
      ]
     },
     "execution_count": 15,
     "metadata": {},
     "output_type": "execute_result"
    }
   ],
   "source": [
    "import pandas as pd\n",
    "data=pd.read_csv(\"headbrain.csv\")\n",
    "data.tail()"
   ]
  },
  {
   "cell_type": "code",
   "execution_count": 16,
   "metadata": {},
   "outputs": [],
   "source": [
    "a=data['Head Size(cm^3)'].min()"
   ]
  },
  {
   "cell_type": "code",
   "execution_count": 17,
   "metadata": {},
   "outputs": [],
   "source": [
    "b=data['Head Size(cm^3)'].max()"
   ]
  },
  {
   "cell_type": "code",
   "execution_count": 18,
   "metadata": {},
   "outputs": [
    {
     "data": {
      "text/plain": [
       "955"
      ]
     },
     "execution_count": 18,
     "metadata": {},
     "output_type": "execute_result"
    }
   ],
   "source": [
    "data['Brain Weight(grams)'].min()"
   ]
  },
  {
   "cell_type": "code",
   "execution_count": 19,
   "metadata": {},
   "outputs": [
    {
     "data": {
      "text/plain": [
       "1635"
      ]
     },
     "execution_count": 19,
     "metadata": {},
     "output_type": "execute_result"
    }
   ],
   "source": [
    "data['Brain Weight(grams)'].max()"
   ]
  },
  {
   "cell_type": "code",
   "execution_count": 20,
   "metadata": {},
   "outputs": [
    {
     "data": {
      "text/plain": [
       "0"
      ]
     },
     "execution_count": 20,
     "metadata": {},
     "output_type": "execute_result"
    }
   ],
   "source": [
    "data['Brain Weight(grams)'].isna().sum()"
   ]
  },
  {
   "cell_type": "code",
   "execution_count": 21,
   "metadata": {},
   "outputs": [
    {
     "name": "stdout",
     "output_type": "stream",
     "text": [
      "3633.9915611814345\n",
      "1282.873417721519\n"
     ]
    }
   ],
   "source": [
    "x=data['Head Size(cm^3)'].values\n",
    "y=data['Brain Weight(grams)'].values\n",
    "mean_x=np.mean(x)\n",
    "print(mean_x)\n",
    "mean_y=np.mean(y)\n",
    "print(mean_y)"
   ]
  },
  {
   "cell_type": "code",
   "execution_count": 22,
   "metadata": {},
   "outputs": [
    {
     "data": {
      "text/plain": [
       "325.57342104944223"
      ]
     },
     "execution_count": 22,
     "metadata": {},
     "output_type": "execute_result"
    }
   ],
   "source": [
    "a=len(y)\n",
    "d=0\n",
    "n=0\n",
    "for i in range(a):\n",
    "    n+=((x[i]-mean_x)*(y[i]-mean_y))\n",
    "    d+=((x[i]-mean_x)**2)\n",
    "m=n/d\n",
    "c=mean_y-(m*mean_x)\n",
    "c\n"
   ]
  },
  {
   "cell_type": "code",
   "execution_count": 23,
   "metadata": {},
   "outputs": [
    {
     "data": {
      "text/plain": [
       "[1514.1666008256125,\n",
       " 1310.2722920608173,\n",
       " 1448.0458366137732,\n",
       " 1320.546036300904,\n",
       " 1425.9177720966638,\n",
       " 1269.9676031189392,\n",
       " 1322.6534710168191,\n",
       " 1263.118440292215,\n",
       " 1277.3436246246424,\n",
       " 1374.549050896231,\n",
       " 1232.5606369114446,\n",
       " 1377.4467736306142,\n",
       " 1284.4562167908562,\n",
       " 1434.0840816208351,\n",
       " 1335.034649972821,\n",
       " 1346.6255409103546,\n",
       " 1246.785821243872,\n",
       " 1238.6195117197008,\n",
       " 1140.8872267691336,\n",
       " 1490.9848189505453,\n",
       " 1347.1523995893333,\n",
       " 1391.4085286235525,\n",
       " 1327.6586284671178,\n",
       " 1302.8962705551141,\n",
       " 1576.0724956056215,\n",
       " 1490.721389611056,\n",
       " 1388.7742352286584,\n",
       " 1385.0862244758068,\n",
       " 1235.4583596458278,\n",
       " 1425.390913417685,\n",
       " 1323.1803296957978,\n",
       " 1325.5511937512024,\n",
       " 1406.424000974448,\n",
       " 1421.7029026648333,\n",
       " 1420.9126146463652,\n",
       " 1330.2929218620118,\n",
       " 1254.688701428554,\n",
       " 1312.9065854557114,\n",
       " 1203.8468389071,\n",
       " 1245.468674546425,\n",
       " 1369.2804641064429,\n",
       " 1248.8932559597874,\n",
       " 1462.271020946201,\n",
       " 1327.6586284671178,\n",
       " 1343.2009594969923,\n",
       " 1388.2473765496795,\n",
       " 1460.427015569775,\n",
       " 1159.3272805333913,\n",
       " 1284.7196461303456,\n",
       " 1285.509934148814,\n",
       " 1350.5769810026954,\n",
       " 1324.7609057327345,\n",
       " 1450.4167006691778,\n",
       " 1395.8868273948722,\n",
       " 1382.4519310809128,\n",
       " 1236.5120770037856,\n",
       " 1350.313551663206,\n",
       " 1423.0200493622804,\n",
       " 1362.1678719402291,\n",
       " 1292.0956676360488,\n",
       " 1343.9912475154606,\n",
       " 1219.3891699369747,\n",
       " 1495.7265470613545,\n",
       " 1445.938401897858,\n",
       " 1307.374569326434,\n",
       " 1202.5296922096531,\n",
       " 1225.1846154057414,\n",
       " 1213.8571538076972,\n",
       " 1492.5653949874818,\n",
       " 1479.6573573525013,\n",
       " 1381.3982137229552,\n",
       " 1341.8838127995455,\n",
       " 1411.1657290852575,\n",
       " 1394.3062513579357,\n",
       " 1332.9272152569056,\n",
       " 1219.6525992764641,\n",
       " 1262.8550109527255,\n",
       " 1211.2228604128031,\n",
       " 1360.8507252427821,\n",
       " 1335.824937991289,\n",
       " 1334.5077912938423,\n",
       " 1341.3569541205666,\n",
       " 1181.455345050501,\n",
       " 1267.860168403024,\n",
       " 1361.6410132612502,\n",
       " 1339.77637808363,\n",
       " 1197.261105419865,\n",
       " 1222.8137513503366,\n",
       " 1249.1566852992767,\n",
       " 1354.791850434526,\n",
       " 1421.439473325344,\n",
       " 1199.6319694752697,\n",
       " 1290.2516622596231,\n",
       " 1352.6844157186106,\n",
       " 1300.2619771602203,\n",
       " 1321.0728949798827,\n",
       " 1240.4635170961265,\n",
       " 1244.9418158674462,\n",
       " 1288.144227543708,\n",
       " 1241.7806637935735,\n",
       " 1246.2589625648934,\n",
       " 1335.5615086517996,\n",
       " 1346.6255409103546,\n",
       " 1289.9882329201337,\n",
       " 1278.6607713220894,\n",
       " 1286.5636515067713,\n",
       " 1387.7205178707009,\n",
       " 1220.969745973911,\n",
       " 1357.1627144899305,\n",
       " 1492.5653949874818,\n",
       " 1298.944830462773,\n",
       " 1253.898413410086,\n",
       " 1266.2795923660876,\n",
       " 1272.3384671743438,\n",
       " 1216.7548765420806,\n",
       " 1247.3126799228507,\n",
       " 1271.021320476897,\n",
       " 1352.9478450581,\n",
       " 1409.3217237088315,\n",
       " 1362.6947306192078,\n",
       " 1220.969745973911,\n",
       " 1431.97664690492,\n",
       " 1507.8442966778669,\n",
       " 1277.6070539641319,\n",
       " 1392.7256753209995,\n",
       " 1321.863182998351,\n",
       " 1218.8623112579958,\n",
       " 1148.5266776143262,\n",
       " 1393.2525339999781,\n",
       " 1269.177315100471,\n",
       " 1291.3053796175805,\n",
       " 1256.0058481260012,\n",
       " 1391.4085286235525,\n",
       " 1291.56880895707,\n",
       " 1078.1910439706564,\n",
       " 1230.7166315350187,\n",
       " 1324.2340470537556,\n",
       " 1195.4171000434392,\n",
       " 1143.2580908245382,\n",
       " 1160.907856570328,\n",
       " 1266.543021705577,\n",
       " 1255.4789894470223,\n",
       " 1161.9615739282854,\n",
       " 1231.2434902139976,\n",
       " 1353.7381330765684,\n",
       " 1352.6844157186106,\n",
       " 1221.4966046528898,\n",
       " 1186.19707316131,\n",
       " 1234.6680716273597,\n",
       " 1139.5700800716866,\n",
       " 1224.6577567267625,\n",
       " 1200.9491161727165,\n",
       " 1294.9933903704323,\n",
       " 1231.506919553487,\n",
       " 1340.5666661020982,\n",
       " 1156.9564164779867,\n",
       " 1189.358225235183,\n",
       " 1302.105982536646,\n",
       " 1380.8713550439763,\n",
       " 1186.723931840289,\n",
       " 1134.564922621388,\n",
       " 1321.0728949798827,\n",
       " 1260.2207175578314,\n",
       " 1192.7828066485454,\n",
       " 1246.785821243872,\n",
       " 1137.4626453557712,\n",
       " 1181.1919157110117,\n",
       " 1210.1691430548456,\n",
       " 1327.3951991276283,\n",
       " 1264.9624456686406,\n",
       " 1154.0586937436035,\n",
       " 1248.3663972808085,\n",
       " 1266.2795923660876,\n",
       " 1306.5842813079657,\n",
       " 1277.8704833036213,\n",
       " 1169.3375954339886,\n",
       " 1276.2899072666848,\n",
       " 1263.6452989711938,\n",
       " 1373.7587628777626,\n",
       " 1256.2692774654906,\n",
       " 1297.3642544258369,\n",
       " 1157.4832751569656,\n",
       " 1380.6079257044871,\n",
       " 1163.542149965222,\n",
       " 1242.044093133063,\n",
       " 1284.983075469835,\n",
       " 1282.348782074941,\n",
       " 1134.0380639424093,\n",
       " 1219.6525992764641,\n",
       " 1301.0522651786882,\n",
       " 1159.3272805333913,\n",
       " 1209.115425696888,\n",
       " 1115.8614395176405,\n",
       " 1296.837395746858,\n",
       " 1262.3281522737466,\n",
       " 1056.0629794535469,\n",
       " 1131.1403412080258,\n",
       " 1206.481132301994,\n",
       " 1245.7321038859145,\n",
       " 1194.0999533459922,\n",
       " 1210.6960017338242,\n",
       " 1175.9233289212236,\n",
       " 1188.831366556204,\n",
       " 1340.0398074231196,\n",
       " 1133.5112052634304,\n",
       " 1298.154542444305,\n",
       " 1221.7600339923792,\n",
       " 1377.973632309593,\n",
       " 1199.6319694752697,\n",
       " 1042.1012244606086,\n",
       " 1099.2653911298084,\n",
       " 1268.6504564214922,\n",
       " 1099.7922498087873,\n",
       " 1112.963716783257,\n",
       " 1270.2310324584287,\n",
       " 1156.9564164779867,\n",
       " 1180.6650570320328,\n",
       " 1160.6444272308386,\n",
       " 1186.4605025007995,\n",
       " 1218.3354525790169,\n",
       " 1216.2280178631017,\n",
       " 1080.0350493470823,\n",
       " 1310.799150739796,\n",
       " 1242.044093133063,\n",
       " 1286.300222167282,\n",
       " 1304.4768465920506,\n",
       " 1190.67537193263,\n",
       " 1433.0303642628776,\n",
       " 1309.4820040423492,\n",
       " 1173.2890355263298,\n",
       " 1296.310537067879,\n",
       " 1301.3156945181777,\n",
       " 1172.235318168372,\n",
       " 1219.6525992764641,\n",
       " 1177.2404756186706,\n",
       " 1208.588567017909,\n",
       " 1218.8623112579958]"
      ]
     },
     "execution_count": 23,
     "metadata": {},
     "output_type": "execute_result"
    }
   ],
   "source": [
    "yp=[]\n",
    "for i in range(a):\n",
    "    b=m*x[i]+c\n",
    "    yp.append(b)\n",
    "yp"
   ]
  },
  {
   "cell_type": "code",
   "execution_count": 24,
   "metadata": {},
   "outputs": [
    {
     "data": {
      "text/plain": [
       "<matplotlib.collections.PathCollection at 0x19b14fa2da0>"
      ]
     },
     "execution_count": 24,
     "metadata": {},
     "output_type": "execute_result"
    },
    {
     "data": {
      "image/png": "[encoded data removed]",
      "text/plain": [
       "<Figure size 432x288 with 1 Axes>"
      ]
     },
     "metadata": {
      "needs_background": "light"
     },
     "output_type": "display_data"
    }
   ],
   "source": [
    "plt.scatter(x,yp)"
   ]
  },
  {
   "cell_type": "code",
   "execution_count": 25,
   "metadata": {},
   "outputs": [
    {
     "data": {
      "text/plain": [
       "<matplotlib.collections.PathCollection at 0x19b150186d8>"
      ]
     },
     "execution_count": 25,
     "metadata": {},
     "output_type": "execute_result"
    },
    {
     "data": {
      "image/png": "[encoded data removed]",
      "text/plain": [
       "<Figure size 432x288 with 1 Axes>"
      ]
     },
     "metadata": {
      "needs_background": "light"
     },
     "output_type": "display_data"
    }
   ],
   "source": [
    "plt.scatter(x,y)"
   ]
  },
  {
   "cell_type": "code",
   "execution_count": 28,
   "metadata": {},
   "outputs": [
    {
     "data": {
      "text/plain": [
       "array([396829.43589384, 396509.4476339 , 396189.45937396, 395869.47111403,\n",
       "       395549.48285409, 395229.49459416, 394909.50633422, 394589.51807429,\n",
       "       394269.52981435, 393949.54155441, 393629.55329448, 393309.56503454,\n",
       "       392989.57677461, 392669.58851467, 392349.60025474, 392029.6119948 ,\n",
       "       391709.62373486, 391389.63547493, 391069.64721499, 390749.65895506,\n",
       "       390429.67069512, 390109.68243519, 389789.69417525, 389469.70591531,\n",
       "       389149.71765538, 388829.72939544, 388509.74113551, 388189.75287557,\n",
       "       387869.76461564, 387549.7763557 , 387229.78809576, 386909.79983583,\n",
       "       386589.81157589, 386269.82331596, 385949.83505602, 385629.84679609,\n",
       "       385309.85853615, 384989.87027621, 384669.88201628, 384349.89375634,\n",
       "       384029.90549641, 383709.91723647, 383389.92897654, 383069.9407166 ,\n",
       "       382749.95245666, 382429.96419673, 382109.97593679, 381789.98767686,\n",
       "       381469.99941692, 381150.01115699, 380830.02289705, 380510.03463711,\n",
       "       380190.04637718, 379870.05811724, 379550.06985731, 379230.08159737,\n",
       "       378910.09333744, 378590.1050775 , 378270.11681756, 377950.12855763,\n",
       "       377630.14029769, 377310.15203776, 376990.16377782, 376670.17551789,\n",
       "       376350.18725795, 376030.19899801, 375710.21073808, 375390.22247814,\n",
       "       375070.23421821, 374750.24595827, 374430.25769834, 374110.2694384 ,\n",
       "       373790.28117846, 373470.29291853, 373150.30465859, 372830.31639866,\n",
       "       372510.32813872, 372190.33987879, 371870.35161885, 371550.36335891,\n",
       "       371230.37509898, 370910.38683904, 370590.39857911, 370270.41031917,\n",
       "       369950.42205924, 369630.4337993 , 369310.44553936, 368990.45727943,\n",
       "       368670.46901949, 368350.48075956, 368030.49249962, 367710.50423969,\n",
       "       367390.51597975, 367070.52771981, 366750.53945988, 366430.55119994,\n",
       "       366110.56294001, 365790.57468007, 365470.58642014, 365150.5981602 ,\n",
       "       364830.60990026, 364510.62164033, 364190.63338039, 363870.64512046,\n",
       "       363550.65686052, 363230.66860059, 362910.68034065, 362590.69208071,\n",
       "       362270.70382078, 361950.71556084, 361630.72730091, 361310.73904097,\n",
       "       360990.75078104, 360670.7625211 , 360350.77426116, 360030.78600123,\n",
       "       359710.79774129, 359390.80948136, 359070.82122142, 358750.83296149,\n",
       "       358430.84470155, 358110.85644161, 357790.86818168, 357470.87992174,\n",
       "       357150.89166181, 356830.90340187, 356510.91514194, 356190.926882  ,\n",
       "       355870.93862206, 355550.95036213, 355230.96210219, 354910.97384226,\n",
       "       354590.98558232, 354270.99732239, 353951.00906245, 353631.02080251,\n",
       "       353311.03254258, 352991.04428264, 352671.05602271, 352351.06776277,\n",
       "       352031.07950284, 351711.0912429 , 351391.10298296, 351071.11472303,\n",
       "       350751.12646309, 350431.13820316, 350111.14994322, 349791.16168329,\n",
       "       349471.17342335, 349151.18516341, 348831.19690348, 348511.20864354,\n",
       "       348191.22038361, 347871.23212367, 347551.24386374, 347231.2556038 ,\n",
       "       346911.26734386, 346591.27908393, 346271.29082399, 345951.30256406,\n",
       "       345631.31430412, 345311.32604419, 344991.33778425, 344671.34952431,\n",
       "       344351.36126438, 344031.37300444, 343711.38474451, 343391.39648457,\n",
       "       343071.40822464, 342751.4199647 , 342431.43170476, 342111.44344483,\n",
       "       341791.45518489, 341471.46692496, 341151.47866502, 340831.49040509,\n",
       "       340511.50214515, 340191.51388521, 339871.52562528, 339551.53736534,\n",
       "       339231.54910541, 338911.56084547, 338591.57258554, 338271.5843256 ,\n",
       "       337951.59606566, 337631.60780573, 337311.61954579, 336991.63128586,\n",
       "       336671.64302592, 336351.65476599, 336031.66650605, 335711.67824611,\n",
       "       335391.68998618, 335071.70172624, 334751.71346631, 334431.72520637,\n",
       "       334111.73694644, 333791.7486865 , 333471.76042656, 333151.77216663,\n",
       "       332831.78390669, 332511.79564676, 332191.80738682, 331871.81912689,\n",
       "       331551.83086695, 331231.84260701, 330911.85434708, 330591.86608714,\n",
       "       330271.87782721, 329951.88956727, 329631.90130734, 329311.9130474 ,\n",
       "       328991.92478746, 328671.93652753, 328351.94826759, 328031.96000766,\n",
       "       327711.97174772, 327391.98348779, 327071.99522785, 326752.00696791,\n",
       "       326432.01870798, 326112.03044804, 325792.04218811, 325472.05392817,\n",
       "       325152.06566824, 324832.0774083 , 324512.08914836, 324192.10088843,\n",
       "       323872.11262849, 323552.12436856, 323232.13610862, 322912.14784869,\n",
       "       322592.15958875, 322272.17132881, 321952.18306888, 321632.19480894,\n",
       "       321312.20654901, 320992.21828907, 320672.23002914, 320352.2417692 ,\n",
       "       320032.25350926, 319712.26524933, 319392.27698939, 319072.28872946,\n",
       "       318752.30046952, 318432.31220959, 318112.32394965, 317792.33568971,\n",
       "       317472.34742978, 317152.35916984, 316832.37090991, 316512.38264997,\n",
       "       316192.39439004, 315872.4061301 , 315552.41787016, 315232.42961023,\n",
       "       314912.44135029, 314592.45309036, 314272.46483042, 313952.47657049,\n",
       "       313632.48831055, 313312.50005061, 312992.51179068, 312672.52353074,\n",
       "       312352.53527081, 312032.54701087, 311712.55875094, 311392.570491  ,\n",
       "       311072.58223106, 310752.59397113, 310432.60571119, 310112.61745126,\n",
       "       309792.62919132, 309472.64093139, 309152.65267145, 308832.66441151,\n",
       "       308512.67615158, 308192.68789164, 307872.69963171, 307552.71137177,\n",
       "       307232.72311184, 306912.7348519 , 306592.74659196, 306272.75833203,\n",
       "       305952.77007209, 305632.78181216, 305312.79355222, 304992.80529229,\n",
       "       304672.81703235, 304352.82877241, 304032.84051248, 303712.85225254,\n",
       "       303392.86399261, 303072.87573267, 302752.88747274, 302432.8992128 ,\n",
       "       302112.91095286, 301792.92269293, 301472.93443299, 301152.94617306,\n",
       "       300832.95791312, 300512.96965319, 300192.98139325, 299872.99313331,\n",
       "       299553.00487338, 299233.01661344, 298913.02835351, 298593.04009357,\n",
       "       298273.05183364, 297953.0635737 , 297633.07531376, 297313.08705383,\n",
       "       296993.09879389, 296673.11053396, 296353.12227402, 296033.13401409,\n",
       "       295713.14575415, 295393.15749421, 295073.16923428, 294753.18097434,\n",
       "       294433.19271441, 294113.20445447, 293793.21619454, 293473.2279346 ,\n",
       "       293153.23967466, 292833.25141473, 292513.26315479, 292193.27489486,\n",
       "       291873.28663492, 291553.29837499, 291233.31011505, 290913.32185511,\n",
       "       290593.33359518, 290273.34533524, 289953.35707531, 289633.36881537,\n",
       "       289313.38055544, 288993.3922955 , 288673.40403556, 288353.41577563,\n",
       "       288033.42751569, 287713.43925576, 287393.45099582, 287073.46273589,\n",
       "       286753.47447595, 286433.48621601, 286113.49795608, 285793.50969614,\n",
       "       285473.52143621, 285153.53317627, 284833.54491634, 284513.5566564 ,\n",
       "       284193.56839646, 283873.58013653, 283553.59187659, 283233.60361666,\n",
       "       282913.61535672, 282593.62709679, 282273.63883685, 281953.65057691,\n",
       "       281633.66231698, 281313.67405704, 280993.68579711, 280673.69753717,\n",
       "       280353.70927724, 280033.7210173 , 279713.73275736, 279393.74449743,\n",
       "       279073.75623749, 278753.76797756, 278433.77971762, 278113.79145769,\n",
       "       277793.80319775, 277473.81493781, 277153.82667788, 276833.83841794,\n",
       "       276513.85015801, 276193.86189807, 275873.87363814, 275553.8853782 ,\n",
       "       275233.89711826, 274913.90885833, 274593.92059839, 274273.93233846,\n",
       "       273953.94407852, 273633.95581859, 273313.96755865, 272993.97929871,\n",
       "       272673.99103878, 272354.00277884, 272034.01451891, 271714.02625897,\n",
       "       271394.03799904, 271074.0497391 , 270754.06147916, 270434.07321923,\n",
       "       270114.08495929, 269794.09669936, 269474.10843942, 269154.12017949,\n",
       "       268834.13191955, 268514.14365961, 268194.15539968, 267874.16713974,\n",
       "       267554.17887981, 267234.19061987, 266914.20235994, 266594.2141    ,\n",
       "       266274.22584006, 265954.23758013, 265634.24932019, 265314.26106026,\n",
       "       264994.27280032, 264674.28454039, 264354.29628045, 264034.30802051,\n",
       "       263714.31976058, 263394.33150064, 263074.34324071, 262754.35498077,\n",
       "       262434.36672084, 262114.3784609 , 261794.39020096, 261474.40194103,\n",
       "       261154.41368109, 260834.42542116, 260514.43716122, 260194.44890129,\n",
       "       259874.46064135, 259554.47238141, 259234.48412148, 258914.49586154,\n",
       "       258594.50760161, 258274.51934167, 257954.53108174, 257634.5428218 ,\n",
       "       257314.55456186, 256994.56630193, 256674.57804199, 256354.58978206,\n",
       "       256034.60152212, 255714.61326219, 255394.62500225, 255074.63674231,\n",
       "       254754.64848238, 254434.66022244, 254114.67196251, 253794.68370257,\n",
       "       253474.69544264, 253154.7071827 , 252834.71892276, 252514.73066283,\n",
       "       252194.74240289, 251874.75414296, 251554.76588302, 251234.77762309,\n",
       "       250914.78936315, 250594.80110321, 250274.81284328, 249954.82458334,\n",
       "       249634.83632341, 249314.84806347, 248994.85980354, 248674.8715436 ,\n",
       "       248354.88328366, 248034.89502373, 247714.90676379, 247394.91850386,\n",
       "       247074.93024392, 246754.94198399, 246434.95372405, 246114.96546411,\n",
       "       245794.97720418, 245474.98894424, 245155.00068431, 244835.01242437,\n",
       "       244515.02416444, 244195.0359045 , 243875.04764456, 243555.05938463,\n",
       "       243235.07112469, 242915.08286476, 242595.09460482, 242275.10634489,\n",
       "       241955.11808495, 241635.12982501, 241315.14156508, 240995.15330514,\n",
       "       240675.16504521, 240355.17678527, 240035.18852534, 239715.2002654 ,\n",
       "       239395.21200546, 239075.22374553, 238755.23548559, 238435.24722566,\n",
       "       238115.25896572, 237795.27070579, 237475.28244585, 237155.29418591,\n",
       "       236835.30592598, 236515.31766604, 236195.32940611, 235875.34114617,\n",
       "       235555.35288624, 235235.3646263 , 234915.37636636, 234595.38810643,\n",
       "       234275.39984649, 233955.41158656, 233635.42332662, 233315.43506669,\n",
       "       232995.44680675, 232675.45854681, 232355.47028688, 232035.48202694,\n",
       "       231715.49376701, 231395.50550707, 231075.51724714, 230755.5289872 ,\n",
       "       230435.54072726, 230115.55246733, 229795.56420739, 229475.57594746,\n",
       "       229155.58768752, 228835.59942759, 228515.61116765, 228195.62290771,\n",
       "       227875.63464778, 227555.64638784, 227235.65812791, 226915.66986797,\n",
       "       226595.68160804, 226275.6933481 , 225955.70508816, 225635.71682823,\n",
       "       225315.72856829, 224995.74030836, 224675.75204842, 224355.76378849,\n",
       "       224035.77552855, 223715.78726861, 223395.79900868, 223075.81074874,\n",
       "       222755.82248881, 222435.83422887, 222115.84596894, 221795.857709  ,\n",
       "       221475.86944906, 221155.88118913, 220835.89292919, 220515.90466926,\n",
       "       220195.91640932, 219875.92814939, 219555.93988945, 219235.95162951,\n",
       "       218915.96336958, 218595.97510964, 218275.98684971, 217955.99858977,\n",
       "       217636.01032984, 217316.0220699 , 216996.03380996, 216676.04555003,\n",
       "       216356.05729009, 216036.06903016, 215716.08077022, 215396.09251029,\n",
       "       215076.10425035, 214756.11599041, 214436.12773048, 214116.13947054,\n",
       "       213796.15121061, 213476.16295067, 213156.17469074, 212836.1864308 ,\n",
       "       212516.19817086, 212196.20991093, 211876.22165099, 211556.23339106,\n",
       "       211236.24513112, 210916.25687119, 210596.26861125, 210276.28035131,\n",
       "       209956.29209138, 209636.30383144, 209316.31557151, 208996.32731157,\n",
       "       208676.33905164, 208356.3507917 , 208036.36253176, 207716.37427183,\n",
       "       207396.38601189, 207076.39775196, 206756.40949202, 206436.42123209,\n",
       "       206116.43297215, 205796.44471221, 205476.45645228, 205156.46819234,\n",
       "       204836.47993241, 204516.49167247, 204196.50341254, 203876.5151526 ,\n",
       "       203556.52689266, 203236.53863273, 202916.55037279, 202596.56211286,\n",
       "       202276.57385292, 201956.58559299, 201636.59733305, 201316.60907311,\n",
       "       200996.62081318, 200676.63255324, 200356.64429331, 200036.65603337,\n",
       "       199716.66777344, 199396.6795135 , 199076.69125356, 198756.70299363,\n",
       "       198436.71473369, 198116.72647376, 197796.73821382, 197476.74995389,\n",
       "       197156.76169395, 196836.77343401, 196516.78517408, 196196.79691414,\n",
       "       195876.80865421, 195556.82039427, 195236.83213434, 194916.8438744 ,\n",
       "       194596.85561446, 194276.86735453, 193956.87909459, 193636.89083466,\n",
       "       193316.90257472, 192996.91431479, 192676.92605485, 192356.93779491,\n",
       "       192036.94953498, 191716.96127504, 191396.97301511, 191076.98475517,\n",
       "       190756.99649524, 190437.0082353 , 190117.01997536, 189797.03171543,\n",
       "       189477.04345549, 189157.05519556, 188837.06693562, 188517.07867569,\n",
       "       188197.09041575, 187877.10215581, 187557.11389588, 187237.12563594,\n",
       "       186917.13737601, 186597.14911607, 186277.16085614, 185957.1725962 ,\n",
       "       185637.18433626, 185317.19607633, 184997.20781639, 184677.21955646,\n",
       "       184357.23129652, 184037.24303659, 183717.25477665, 183397.26651671,\n",
       "       183077.27825678, 182757.28999684, 182437.30173691, 182117.31347697,\n",
       "       181797.32521704, 181477.3369571 , 181157.34869716, 180837.36043723,\n",
       "       180517.37217729, 180197.38391736, 179877.39565742, 179557.40739749,\n",
       "       179237.41913755, 178917.43087761, 178597.44261768, 178277.45435774,\n",
       "       177957.46609781, 177637.47783787, 177317.48957794, 176997.501318  ,\n",
       "       176677.51305806, 176357.52479813, 176037.53653819, 175717.54827826,\n",
       "       175397.56001832, 175077.57175839, 174757.58349845, 174437.59523851,\n",
       "       174117.60697858, 173797.61871864, 173477.63045871, 173157.64219877,\n",
       "       172837.65393884, 172517.6656789 , 172197.67741896, 171877.68915903,\n",
       "       171557.70089909, 171237.71263916, 170917.72437922, 170597.73611929,\n",
       "       170277.74785935, 169957.75959941, 169637.77133948, 169317.78307954,\n",
       "       168997.79481961, 168677.80655967, 168357.81829974, 168037.8300398 ,\n",
       "       167717.84177986, 167397.85351993, 167077.86525999, 166757.87700006,\n",
       "       166437.88874012, 166117.90048019, 165797.91222025, 165477.92396031,\n",
       "       165157.93570038, 164837.94744044, 164517.95918051, 164197.97092057,\n",
       "       163877.98266064, 163557.9944007 , 163238.00614076, 162918.01788083,\n",
       "       162598.02962089, 162278.04136096, 161958.05310102, 161638.06484109,\n",
       "       161318.07658115, 160998.08832121, 160678.10006128, 160358.11180134,\n",
       "       160038.12354141, 159718.13528147, 159398.14702154, 159078.1587616 ,\n",
       "       158758.17050166, 158438.18224173, 158118.19398179, 157798.20572186,\n",
       "       157478.21746192, 157158.22920199, 156838.24094205, 156518.25268211,\n",
       "       156198.26442218, 155878.27616224, 155558.28790231, 155238.29964237,\n",
       "       154918.31138244, 154598.3231225 , 154278.33486256, 153958.34660263,\n",
       "       153638.35834269, 153318.37008276, 152998.38182282, 152678.39356289,\n",
       "       152358.40530295, 152038.41704301, 151718.42878308, 151398.44052314,\n",
       "       151078.45226321, 150758.46400327, 150438.47574334, 150118.4874834 ,\n",
       "       149798.49922346, 149478.51096353, 149158.52270359, 148838.53444366,\n",
       "       148518.54618372, 148198.55792379, 147878.56966385, 147558.58140391,\n",
       "       147238.59314398, 146918.60488404, 146598.61662411, 146278.62836417,\n",
       "       145958.64010424, 145638.6518443 , 145318.66358436, 144998.67532443,\n",
       "       144678.68706449, 144358.69880456, 144038.71054462, 143718.72228469,\n",
       "       143398.73402475, 143078.74576481, 142758.75750488, 142438.76924494,\n",
       "       142118.78098501, 141798.79272507, 141478.80446514, 141158.8162052 ,\n",
       "       140838.82794526, 140518.83968533, 140198.85142539, 139878.86316546,\n",
       "       139558.87490552, 139238.88664559, 138918.89838565, 138598.91012571,\n",
       "       138278.92186578, 137958.93360584, 137638.94534591, 137318.95708597,\n",
       "       136998.96882604, 136678.9805661 , 136358.99230616, 136039.00404623,\n",
       "       135719.01578629, 135399.02752636, 135079.03926642, 134759.05100649,\n",
       "       134439.06274655, 134119.07448661, 133799.08622668, 133479.09796674,\n",
       "       133159.10970681, 132839.12144687, 132519.13318694, 132199.144927  ,\n",
       "       131879.15666706, 131559.16840713, 131239.18014719, 130919.19188726,\n",
       "       130599.20362732, 130279.21536739, 129959.22710745, 129639.23884751,\n",
       "       129319.25058758, 128999.26232764, 128679.27406771, 128359.28580777,\n",
       "       128039.29754784, 127719.3092879 , 127399.32102796, 127079.33276803,\n",
       "       126759.34450809, 126439.35624816, 126119.36798822, 125799.37972829,\n",
       "       125479.39146835, 125159.40320841, 124839.41494848, 124519.42668854,\n",
       "       124199.43842861, 123879.45016867, 123559.46190874, 123239.4736488 ,\n",
       "       122919.48538886, 122599.49712893, 122279.50886899, 121959.52060906,\n",
       "       121639.53234912, 121319.54408919, 120999.55582925, 120679.56756931,\n",
       "       120359.57930938, 120039.59104944, 119719.60278951, 119399.61452957,\n",
       "       119079.62626964, 118759.6380097 , 118439.64974976, 118119.66148983,\n",
       "       117799.67322989, 117479.68496996, 117159.69671002, 116839.70845009,\n",
       "       116519.72019015, 116199.73193021, 115879.74367028, 115559.75541034,\n",
       "       115239.76715041, 114919.77889047, 114599.79063054, 114279.8023706 ,\n",
       "       113959.81411066, 113639.82585073, 113319.83759079, 112999.84933086,\n",
       "       112679.86107092, 112359.87281099, 112039.88455105, 111719.89629111,\n",
       "       111399.90803118, 111079.91977124, 110759.93151131, 110439.94325137,\n",
       "       110119.95499144, 109799.9667315 , 109479.97847156, 109159.99021163,\n",
       "       108840.00195169, 108520.01369176, 108200.02543182, 107880.03717189,\n",
       "       107560.04891195, 107240.06065201, 106920.07239208, 106600.08413214,\n",
       "       106280.09587221, 105960.10761227, 105640.11935234, 105320.1310924 ,\n",
       "       105000.14283246, 104680.15457253, 104360.16631259, 104040.17805266,\n",
       "       103720.18979272, 103400.20153279, 103080.21327285, 102760.22501291,\n",
       "       102440.23675298, 102120.24849304, 101800.26023311, 101480.27197317,\n",
       "       101160.28371324, 100840.2954533 , 100520.30719336, 100200.31893343,\n",
       "        99880.33067349,  99560.34241356,  99240.35415362,  98920.36589369,\n",
       "        98600.37763375,  98280.38937381,  97960.40111388,  97640.41285394,\n",
       "        97320.42459401,  97000.43633407,  96680.44807414,  96360.4598142 ,\n",
       "        96040.47155426,  95720.48329433,  95400.49503439,  95080.50677446,\n",
       "        94760.51851452,  94440.53025459,  94120.54199465,  93800.55373471,\n",
       "        93480.56547478,  93160.57721484,  92840.58895491,  92520.60069497,\n",
       "        92200.61243504,  91880.6241751 ,  91560.63591516,  91240.64765523,\n",
       "        90920.65939529,  90600.67113536,  90280.68287542,  89960.69461549,\n",
       "        89640.70635555,  89320.71809561,  89000.72983568,  88680.74157574,\n",
       "        88360.75331581,  88040.76505587,  87720.77679594,  87400.788536  ,\n",
       "        87080.80027606,  86760.81201613,  86440.82375619,  86120.83549626,\n",
       "        85800.84723632,  85480.85897639,  85160.87071645,  84840.88245651,\n",
       "        84520.89419658,  84200.90593664,  83880.91767671,  83560.92941677,\n",
       "        83240.94115684,  82920.9528969 ,  82600.96463696,  82280.97637703,\n",
       "        81960.98811709,  81640.99985716,  81321.01159722,  81001.02333729,\n",
       "        80681.03507735,  80361.04681741,  80041.05855748,  79721.07029754,\n",
       "        79401.08203761,  79081.09377767,  78761.10551774,  78441.1172578 ,\n",
       "        78121.12899786,  77801.14073793,  77481.15247799,  77161.16421806])"
      ]
     },
     "execution_count": 28,
     "metadata": {},
     "output_type": "execute_result"
    }
   ],
   "source": [
    "x=np.linspace(b,a,1000)\n",
    "y=m+c*x\n",
    "y"
   ]
  },
  {
   "cell_type": "code",
   "execution_count": 29,
   "metadata": {},
   "outputs": [
    {
     "name": "stdout",
     "output_type": "stream",
     "text": [
      "R2 Score\n",
      "1.0\n"
     ]
    }
   ],
   "source": [
    "ss_tot=0\n",
    "ss_res=0\n",
    "for i in range(a):\n",
    "    y_pred=m +c * x[i]\n",
    "    ss_tot+=(y[i]-mean_y)**2\n",
    "    ss_res+=(y[i]-y_pred)**2\n",
    "r2=1-(ss_res/ss_tot)\n",
    "print(\"R2 Score\")\n",
    "print(r2)"
   ]
  },
  {
   "cell_type": "code",
   "execution_count": 31,
   "metadata": {},
   "outputs": [
    {
     "name": "stdout",
     "output_type": "stream",
     "text": [
      "0.639311719957\n"
     ]
    }
   ],
   "source": [
    "from sklearn.linear_model import LinearRegression\n",
    "from sklearn.metrics import mean_squared_error\n",
    "data1=pd.read_csv(\"headbrain.csv\")\n",
    "data1.head()\n",
    "x=data['Head Size(cm^3)'].values\n",
    "y=data['Brain Weight(grams)'].values\n",
    "m=len(x)\n",
    "x=x.reshape(m,1)\n",
    "reg=LinearRegression()\n",
    "reg=reg.fit(x,y)\n",
    "y_pred=reg.predict(x)\n",
    "r2_score=reg.score(x,y)\n",
    "print(r2_score)"
   ]
  },
  {
   "cell_type": "code",
   "execution_count": 33,
   "metadata": {},
   "outputs": [],
   "source": [
    "reg.predict([[3214]])\n",
    "from sklearn.model_selection import train_test_split\n",
    "x_train,x_test,y_train,y_test=train_test_split(x,y,test_size=0.3,random_state=3)"
   ]
  },
  {
   "cell_type": "code",
   "execution_count": 34,
   "metadata": {},
   "outputs": [
    {
     "data": {
      "text/plain": [
       "(array([[3497],\n",
       "        [3249],\n",
       "        [3170],\n",
       "        [3793],\n",
       "        [3740],\n",
       "        [4200],\n",
       "        [3834],\n",
       "        [3218],\n",
       "        [3383],\n",
       "        [3654],\n",
       "        [3466],\n",
       "        [3787],\n",
       "        [3389],\n",
       "        [4053],\n",
       "        [3524],\n",
       "        [4430],\n",
       "        [3661],\n",
       "        [4121],\n",
       "        [4315],\n",
       "        [3156],\n",
       "        [3858],\n",
       "        [3791],\n",
       "        [4208],\n",
       "        [3381],\n",
       "        [2864],\n",
       "        [3069],\n",
       "        [3779],\n",
       "        [3933],\n",
       "        [3585],\n",
       "        [3724],\n",
       "        [3891],\n",
       "        [3246],\n",
       "        [3899],\n",
       "        [3495],\n",
       "        [3436],\n",
       "        [3171],\n",
       "        [3930],\n",
       "        [4747],\n",
       "        [3572],\n",
       "        [3580],\n",
       "        [3613],\n",
       "        [3344],\n",
       "        [4063],\n",
       "        [4022],\n",
       "        [3497],\n",
       "        [2937],\n",
       "        [3782],\n",
       "        [4103],\n",
       "        [3804],\n",
       "        [3851],\n",
       "        [4166],\n",
       "        [3493],\n",
       "        [4204],\n",
       "        [3662],\n",
       "        [3804],\n",
       "        [3156],\n",
       "        [3297],\n",
       "        [3735],\n",
       "        [3318],\n",
       "        [3203],\n",
       "        [3779],\n",
       "        [3814],\n",
       "        [3399],\n",
       "        [4424],\n",
       "        [3302],\n",
       "        [3863],\n",
       "        [4430],\n",
       "        [3558],\n",
       "        [3571],\n",
       "        [3716],\n",
       "        [3993],\n",
       "        [3458],\n",
       "        [3269],\n",
       "        [3982],\n",
       "        [4175],\n",
       "        [3492],\n",
       "        [3692],\n",
       "        [3890],\n",
       "        [3687],\n",
       "        [3685],\n",
       "        [3318],\n",
       "        [3669],\n",
       "        [3995],\n",
       "        [3527],\n",
       "        [3279],\n",
       "        [2939],\n",
       "        [4270],\n",
       "        [3561],\n",
       "        [3641],\n",
       "        [4006],\n",
       "        [3530],\n",
       "        [3473],\n",
       "        [3394],\n",
       "        [4005],\n",
       "        [3284],\n",
       "        [3071],\n",
       "        [3830],\n",
       "        [3903],\n",
       "        [3478],\n",
       "        [4051],\n",
       "        [3642],\n",
       "        [3900],\n",
       "        [3850],\n",
       "        [3738],\n",
       "        [3594],\n",
       "        [3058],\n",
       "        [3615],\n",
       "        [3689],\n",
       "        [3082],\n",
       "        [3589],\n",
       "        [3095],\n",
       "        [3704],\n",
       "        [4012],\n",
       "        [3479],\n",
       "        [3454],\n",
       "        [3124],\n",
       "        [3647],\n",
       "        [3644],\n",
       "        [3700],\n",
       "        [3878],\n",
       "        [3748],\n",
       "        [3609],\n",
       "        [3835],\n",
       "        [3614],\n",
       "        [4161],\n",
       "        [3503],\n",
       "        [3559],\n",
       "        [4442],\n",
       "        [3352],\n",
       "        [3391],\n",
       "        [3707],\n",
       "        [3490],\n",
       "        [3695],\n",
       "        [3618],\n",
       "        [4381],\n",
       "        [4160],\n",
       "        [3533],\n",
       "        [3582],\n",
       "        [3866],\n",
       "        [3354],\n",
       "        [4261],\n",
       "        [3415],\n",
       "        [3413],\n",
       "        [3856],\n",
       "        [4036],\n",
       "        [3175],\n",
       "        [3358],\n",
       "        [3899],\n",
       "        [3571],\n",
       "        [3451],\n",
       "        [3248],\n",
       "        [3937],\n",
       "        [3090],\n",
       "        [3104],\n",
       "        [3566],\n",
       "        [3399],\n",
       "        [3277],\n",
       "        [3267],\n",
       "        [4046],\n",
       "        [4512],\n",
       "        [3360],\n",
       "        [3479],\n",
       "        [3532],\n",
       "        [3680],\n",
       "        [4032]], dtype=int64), array([[3233],\n",
       "        [3158],\n",
       "        [3666],\n",
       "        [3309],\n",
       "        [3406],\n",
       "        [3803],\n",
       "        [3648],\n",
       "        [3000],\n",
       "        [3777],\n",
       "        [3228],\n",
       "        [3832],\n",
       "        [3796],\n",
       "        [4046],\n",
       "        [3962],\n",
       "        [2989],\n",
       "        [3935],\n",
       "        [3876],\n",
       "        [2720],\n",
       "        [3499],\n",
       "        [3292],\n",
       "        [4488],\n",
       "        [3362],\n",
       "        [3506],\n",
       "        [3145],\n",
       "        [4057],\n",
       "        [3372],\n",
       "        [3402],\n",
       "        [3391],\n",
       "        [2857],\n",
       "        [3979],\n",
       "        [3703],\n",
       "        [3907],\n",
       "        [3334],\n",
       "        [3556],\n",
       "        [3586],\n",
       "        [2773],\n",
       "        [3577],\n",
       "        [3181],\n",
       "        [3401],\n",
       "        [3268],\n",
       "        [4177],\n",
       "        [3393],\n",
       "        [4034],\n",
       "        [3876],\n",
       "        [4158],\n",
       "        [4423],\n",
       "        [3067],\n",
       "        [3394],\n",
       "        [3439],\n",
       "        [3667],\n",
       "        [3824],\n",
       "        [3443],\n",
       "        [4308],\n",
       "        [3727],\n",
       "        [3329],\n",
       "        [3640],\n",
       "        [3632],\n",
       "        [3710],\n",
       "        [3785],\n",
       "        [3323],\n",
       "        [3394],\n",
       "        [3853],\n",
       "        [3438],\n",
       "        [3214],\n",
       "        [3165],\n",
       "        [3916],\n",
       "        [4008],\n",
       "        [3505],\n",
       "        [4253],\n",
       "        [3548],\n",
       "        [3165],\n",
       "        [4114]], dtype=int64), array([1280, 1279, 1178, 1350, 1280, 1256, 1430, 1060, 1290, 1242, 1292,\n",
       "        1318, 1130, 1312, 1250, 1620, 1320, 1380, 1525, 1170, 1390, 1260,\n",
       "        1522, 1185, 1012, 1022, 1165, 1309, 1300, 1280, 1224, 1180, 1380,\n",
       "        1218, 1235, 1127, 1252, 1635, 1270, 1320, 1355, 1220, 1390, 1485,\n",
       "        1358, 1070, 1350, 1364, 1570, 1405, 1560, 1240, 1380, 1230, 1275,\n",
       "        1225, 1220, 1350, 1175, 1180, 1520, 1207, 1173, 1400, 1165, 1340,\n",
       "        1510, 1225, 1295, 1300, 1380, 1225, 1241, 1375, 1420, 1250, 1305,\n",
       "        1310, 1355, 1350, 1192, 1222, 1296, 1375, 1265, 1060, 1335, 1127,\n",
       "        1311, 1302, 1252, 1240, 1195, 1280, 1246, 1078, 1245, 1334, 1270,\n",
       "        1306, 1205, 1270, 1412, 1297, 1290, 1120, 1350, 1290, 1180, 1250,\n",
       "        1340, 1220, 1400, 1103, 1310, 1165, 1408, 1300, 1290, 1357, 1350,\n",
       "        1210, 1315, 1180, 1405, 1240, 1255, 1330, 1170, 1120, 1235, 1132,\n",
       "        1310, 1290, 1415, 1370, 1210, 1300, 1415, 1204, 1335, 1310, 1322,\n",
       "        1430, 1490, 1200, 1190, 1346, 1316, 1340, 1250, 1300, 1168, 1080,\n",
       "        1306, 1226, 1105, 1243, 1287, 1530, 1095, 1160, 1335, 1321, 1425],\n",
       "       dtype=int64), array([1104, 1100, 1270, 1120, 1220, 1374, 1260, 1090, 1282, 1235, 1208,\n",
       "        1432, 1450, 1350, 1130, 1330, 1405,  955, 1275, 1075, 1440, 1188,\n",
       "        1280, 1202, 1432, 1154, 1220, 1125, 1027, 1324, 1350, 1440, 1236,\n",
       "        1250, 1250, 1076, 1245, 1175, 1140, 1142, 1590, 1175, 1422, 1588,\n",
       "        1432, 1505, 1150, 1215, 1192, 1310, 1240, 1340, 1506, 1470, 1135,\n",
       "        1355, 1163, 1270, 1400, 1249, 1243, 1373, 1290, 1110, 1215, 1360,\n",
       "        1468, 1320, 1485, 1460, 1237, 1362], dtype=int64))"
      ]
     },
     "execution_count": 34,
     "metadata": {},
     "output_type": "execute_result"
    }
   ],
   "source": [
    "x_train,x_test,y_train,y_test"
   ]
  },
  {
   "cell_type": "code",
   "execution_count": null,
   "metadata": {},
   "outputs": [],
   "source": []
  }
 ],
 "metadata": {
  "kernelspec": {
   "display_name": "Python 3",
   "language": "python",
   "name": "python3"
  },
  "language_info": {
   "codemirror_mode": {
    "name": "ipython",
    "version": 3
   },
   "file_extension": ".py",
   "mimetype": "text/x-python",
   "name": "python",
   "nbconvert_exporter": "python",
   "pygments_lexer": "ipython3",
   "version": "3.7.3"
  }
 },
 "nbformat": 4,
 "nbformat_minor": 2
}
